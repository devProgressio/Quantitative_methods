{
 "cells": [
  {
   "cell_type": "markdown",
   "metadata": {
    "id": "dJ89FCefIYZF"
   },
   "source": [
    "### **Solemne 3 parte 2 FMSA315 Ariel Pérez D.**\n",
    "\n",
    "### Indicaciones\n",
    "\n",
    "- Subir un documento PDF con el desarrollo de los siguientes problemas.\n",
    "\n",
    "- Indique las  hipotesis a probar en los casos que  corresponda  y cuál criterio está utilizando para  tomar la decisión de  aceptar o rechazar la hipótesis nula.\n",
    "\n",
    "\n",
    "Usaremos el dataset \"diamonds\" de Seaborn para todas las preguntas. Este dataset incluye variables como precio (en dólares), peso (en quilates), calidad del corte, color, claridad, dimensiones (x, y, z), profundidad y ancho de la mesa. El conjunto de datos incluye especificamente las siguientes variables:\n",
    "\n",
    "\n",
    "1. price: El precio del diamante en dólares estadounidenses.\n",
    "2. carat: El peso del diamante, medido en quilates. Un quilate es igual a 0.2 gramos.\n",
    "3. cut: La calidad del corte del diamante, que influye en su brillo y simetría. Esta variable se clasifica en categorías como Fair, Good, Very Good, Premium e Ideal.\n",
    "4. color: La clasificación del color del diamante. En la industria del diamante, los colores se clasifican de D (sin color) a J (color ligeramente amarillo).\n",
    "5. clarity: La claridad del diamante, que se refiere a la ausencia de imperfecciones internas (inclusiones) o externas (defectos de superficie). Las categorías varían desde IF (Internally Flawless, sin inclusiones visibles bajo una lupa de 10x) hasta I1 (inclusiones visibles a simple vista).\n",
    "6. x: La longitud en mm del diamante.\n",
    "7. y: La anchura en mm del diamante.\n",
    "8. z: La profundidad en mm del diamante.\n",
    "9. depth: El porcentaje de profundidad total, que es la profundidad (de la parte superior a la parte inferior del diamante) dividida por el ancho medio del diamante. Esta medida afecta a la reflexión interna de la luz y, por tanto, al brillo del diamante.\n",
    "10. table: El porcentaje del ancho de la parte superior del diamante en relación con el ancho total. La \"mesa\" es la parte superior plana del diamante.\n"
   ]
  },
  {
   "cell_type": "code",
   "execution_count": 31,
   "metadata": {
    "colab": {
     "base_uri": "https://localhost:8080/",
     "height": 206
    },
    "id": "JKgqxHhqIVYZ",
    "outputId": "d078183c-4fd2-4395-d78a-fb430fd43cc8"
   },
   "outputs": [
    {
     "data": {
      "text/html": [
       "<div>\n",
       "<style scoped>\n",
       "    .dataframe tbody tr th:only-of-type {\n",
       "        vertical-align: middle;\n",
       "    }\n",
       "\n",
       "    .dataframe tbody tr th {\n",
       "        vertical-align: top;\n",
       "    }\n",
       "\n",
       "    .dataframe thead th {\n",
       "        text-align: right;\n",
       "    }\n",
       "</style>\n",
       "<table border=\"1\" class=\"dataframe\">\n",
       "  <thead>\n",
       "    <tr style=\"text-align: right;\">\n",
       "      <th></th>\n",
       "      <th>carat</th>\n",
       "      <th>cut</th>\n",
       "      <th>color</th>\n",
       "      <th>clarity</th>\n",
       "      <th>depth</th>\n",
       "      <th>table</th>\n",
       "      <th>price</th>\n",
       "      <th>x</th>\n",
       "      <th>y</th>\n",
       "      <th>z</th>\n",
       "    </tr>\n",
       "  </thead>\n",
       "  <tbody>\n",
       "    <tr>\n",
       "      <th>0</th>\n",
       "      <td>0.23</td>\n",
       "      <td>Ideal</td>\n",
       "      <td>E</td>\n",
       "      <td>SI2</td>\n",
       "      <td>61.5</td>\n",
       "      <td>55.0</td>\n",
       "      <td>326</td>\n",
       "      <td>3.95</td>\n",
       "      <td>3.98</td>\n",
       "      <td>2.43</td>\n",
       "    </tr>\n",
       "    <tr>\n",
       "      <th>1</th>\n",
       "      <td>0.21</td>\n",
       "      <td>Premium</td>\n",
       "      <td>E</td>\n",
       "      <td>SI1</td>\n",
       "      <td>59.8</td>\n",
       "      <td>61.0</td>\n",
       "      <td>326</td>\n",
       "      <td>3.89</td>\n",
       "      <td>3.84</td>\n",
       "      <td>2.31</td>\n",
       "    </tr>\n",
       "    <tr>\n",
       "      <th>2</th>\n",
       "      <td>0.23</td>\n",
       "      <td>Good</td>\n",
       "      <td>E</td>\n",
       "      <td>VS1</td>\n",
       "      <td>56.9</td>\n",
       "      <td>65.0</td>\n",
       "      <td>327</td>\n",
       "      <td>4.05</td>\n",
       "      <td>4.07</td>\n",
       "      <td>2.31</td>\n",
       "    </tr>\n",
       "    <tr>\n",
       "      <th>3</th>\n",
       "      <td>0.29</td>\n",
       "      <td>Premium</td>\n",
       "      <td>I</td>\n",
       "      <td>VS2</td>\n",
       "      <td>62.4</td>\n",
       "      <td>58.0</td>\n",
       "      <td>334</td>\n",
       "      <td>4.20</td>\n",
       "      <td>4.23</td>\n",
       "      <td>2.63</td>\n",
       "    </tr>\n",
       "    <tr>\n",
       "      <th>4</th>\n",
       "      <td>0.31</td>\n",
       "      <td>Good</td>\n",
       "      <td>J</td>\n",
       "      <td>SI2</td>\n",
       "      <td>63.3</td>\n",
       "      <td>58.0</td>\n",
       "      <td>335</td>\n",
       "      <td>4.34</td>\n",
       "      <td>4.35</td>\n",
       "      <td>2.75</td>\n",
       "    </tr>\n",
       "  </tbody>\n",
       "</table>\n",
       "</div>"
      ],
      "text/plain": [
       "   carat      cut color clarity  depth  table  price     x     y     z\n",
       "0   0.23    Ideal     E     SI2   61.5   55.0    326  3.95  3.98  2.43\n",
       "1   0.21  Premium     E     SI1   59.8   61.0    326  3.89  3.84  2.31\n",
       "2   0.23     Good     E     VS1   56.9   65.0    327  4.05  4.07  2.31\n",
       "3   0.29  Premium     I     VS2   62.4   58.0    334  4.20  4.23  2.63\n",
       "4   0.31     Good     J     SI2   63.3   58.0    335  4.34  4.35  2.75"
      ]
     },
     "execution_count": 31,
     "metadata": {},
     "output_type": "execute_result"
    }
   ],
   "source": [
    "import seaborn as sns\n",
    "import scipy.stats as stats\n",
    "import statsmodels.api as sm\n",
    "from scipy.stats import ttest_1samp\n",
    "from scipy.stats import ttest_ind\n",
    "import statsmodels.api as sm\n",
    "import matplotlib.pyplot as plt\n",
    "\n",
    "solemne3 = sns.load_dataset('diamonds')\n",
    "solemne3.head()"
   ]
  },
  {
   "cell_type": "markdown",
   "metadata": {
    "id": "Hfs8ukaLK3ys"
   },
   "source": [
    "**\n",
    "\n",
    "**Pregunta 1:** Calcula un intervalo de confianza del 95% para la media del precio de los diamantes.\n"
   ]
  },
  {
   "cell_type": "code",
   "execution_count": 32,
   "metadata": {},
   "outputs": [
    {
     "name": "stdout",
     "output_type": "stream",
     "text": [
      "Intervalo de confianza del 95% para la media del precio: (3899.1327133652603, 3966.466730461214)\n"
     ]
    }
   ],
   "source": [
    "precios = solemne3['price']\n",
    "\n",
    "# Intervalo de confianza del 95% para la media\n",
    "intervalo_confianza = stats.norm.interval(0.95, loc=precios.mean(), scale=stats.sem(precios))\n",
    "\n",
    "print(\"Intervalo de confianza del 95% para la media del precio:\", intervalo_confianza)\n"
   ]
  },
  {
   "cell_type": "markdown",
   "metadata": {},
   "source": [
    "**Pregunta 2:** Determina el intervalo de confianza del 99% para la proporción de diamantes con un corte 'Ideal'."
   ]
  },
  {
   "cell_type": "code",
   "execution_count": 33,
   "metadata": {},
   "outputs": [
    {
     "name": "stdout",
     "output_type": "stream",
     "text": [
      "Intervalo de confianza del 99% para la proporción de diamantes con corte 'Ideal': (0.39410422952066565, 0.4049688146024341)\n"
     ]
    }
   ],
   "source": [
    "# Cantidad de diamantes con corte 'Ideal'\n",
    "num_ideal = len(solemne3[solemne3['cut'] == 'Ideal'])\n",
    "\n",
    "# Total de diamantes\n",
    "total_diamantes = len(solemne3)\n",
    "\n",
    "# Proporción de diamantes con corte 'Ideal'\n",
    "proporcion_ideal = num_ideal / total_diamantes\n",
    "\n",
    "# Intervalo de confianza del 99% para la proporción\n",
    "intervalo_confianza_proporcion = sm.stats.proportion_confint(num_ideal, total_diamantes, alpha=0.01)\n",
    "\n",
    "print(\"Intervalo de confianza del 99% para la proporción de diamantes con corte 'Ideal':\", intervalo_confianza_proporcion)\n"
   ]
  },
  {
   "cell_type": "markdown",
   "metadata": {
    "id": "3bhvGqsrLPhY"
   },
   "source": [
    "**Test de Hipótesis** (15  puntos) \n",
    "\n",
    "**Pregunta 3:** Realiza un test de hipótesis para determinar si la media del precio de los diamantes es significativamente mayor  que $4000.\n",
    "\n",
    "(Considera una significancia del 5% en estas preguntas)"
   ]
  },
  {
   "cell_type": "code",
   "execution_count": 34,
   "metadata": {},
   "outputs": [
    {
     "name": "stdout",
     "output_type": "stream",
     "text": [
      "Estadístico t: -3.9121421974108177\n",
      "Valor p: 0.9999542034566214\n",
      "No hay suficiente evidencia para rechazar la hipótesis nula. No podemos afirmar que la media sea mayor a $4000.\n"
     ]
    }
   ],
   "source": [
    "# Hipótesis nula (H0): La media es igual a $4000\n",
    "# Hipótesis alternativa (H1): La media es mayor a $4000\n",
    "hipotesis_nula = 4000\n",
    "\n",
    "# Indica que estamos probando si la media es mayor a $4000\n",
    "hipotesis_alternativa = 'greater'  \n",
    "\n",
    "# Test de hipótesis\n",
    "t_statistic, p_valor = ttest_1samp(precios, hipotesis_nula, alternative=hipotesis_alternativa)\n",
    "\n",
    "print(\"Estadístico t:\", t_statistic)\n",
    "print(\"Valor p:\", p_valor)\n",
    "\n",
    "nivel_significancia = 0.05\n",
    "if p_valor < nivel_significancia:\n",
    "    print(\"Rechazamos la hipótesis nula. Hay evidencia significativa para afirmar que la media es mayor a $4000.\")\n",
    "else:\n",
    "    print(\"No hay suficiente evidencia para rechazar la hipótesis nula. No podemos afirmar que la media sea mayor a $4000.\")\n",
    "\n"
   ]
  },
  {
   "cell_type": "markdown",
   "metadata": {},
   "source": [
    "**Pregunta 4:** Prueba si la media de precio del corte tipo 'Good' es significativamente mayor que la media de precio del corte tipo 'Premium.\n",
    "\n",
    "(Considera una significancia del 5% en estas preguntas)"
   ]
  },
  {
   "cell_type": "code",
   "execution_count": 35,
   "metadata": {},
   "outputs": [
    {
     "name": "stdout",
     "output_type": "stream",
     "text": [
      "Estadístico t: -10.192914587265602\n",
      "Valor p: 2.7951686873072873e-24\n",
      "Rechazamos la hipótesis nula. Hay evidencia significativa para afirmar que la media de 'Good' es mayor que la de 'Premium'.\n"
     ]
    }
   ],
   "source": [
    "# Precios para los cortes 'Good' y 'Premium'\n",
    "precios_good = solemne3[solemne3['cut'] == 'Good']['price']\n",
    "precios_premium = solemne3[solemne3['cut'] == 'Premium']['price']\n",
    "\n",
    "# Test de hipótesis para comparar las medias\n",
    "t_statistic, p_valor = ttest_ind(precios_good, precios_premium, equal_var=False)\n",
    "\n",
    "print(\"Estadístico t:\", t_statistic)\n",
    "print(\"Valor p:\", p_valor)\n",
    "\n",
    "nivel_significancia = 0.05\n",
    "if p_valor < nivel_significancia:\n",
    "    print(\"Rechazamos la hipótesis nula. Hay evidencia significativa para afirmar que la media de 'Good' es mayor que la de 'Premium'.\")\n",
    "else:\n",
    "    print(\"No hay suficiente evidencia para rechazar la hipótesis nula. No podemos afirmar que la media de 'Good' sea mayor que la de 'Premium'.\")\n"
   ]
  },
  {
   "cell_type": "markdown",
   "metadata": {
    "id": "xj-gfkRUO7LN"
   },
   "source": [
    "**Regresión Lineal Múltiple** (30 puntos) \n",
    "\n",
    "**Pregunta 5:**  Construya un modelo de regresión lineal múltiple donde el precio sea la variable dependiente y el peso, porcentaje de profundidad total, porcentaje del ancho de la parte superior del diamante en relación con el ancho total sean las variables independientes. "
   ]
  },
  {
   "cell_type": "code",
   "execution_count": 36,
   "metadata": {
    "id": "pW1K1AYSPSuA"
   },
   "outputs": [
    {
     "name": "stdout",
     "output_type": "stream",
     "text": [
      "                            OLS Regression Results                            \n",
      "==============================================================================\n",
      "Dep. Variable:                  price   R-squared:                       0.854\n",
      "Model:                            OLS   Adj. R-squared:                  0.854\n",
      "Method:                 Least Squares   F-statistic:                 1.049e+05\n",
      "Date:                Tue, 02 Jan 2024   Prob (F-statistic):               0.00\n",
      "Time:                        22:15:13   Log-Likelihood:            -4.7194e+05\n",
      "No. Observations:               53940   AIC:                         9.439e+05\n",
      "Df Residuals:                   53936   BIC:                         9.439e+05\n",
      "Df Model:                           3                                         \n",
      "Covariance Type:            nonrobust                                         \n",
      "==============================================================================\n",
      "                 coef    std err          t      P>|t|      [0.025      0.975]\n",
      "------------------------------------------------------------------------------\n",
      "const         1.3e+04    390.918     33.264      0.000    1.22e+04    1.38e+04\n",
      "carat       7858.7705     14.151    555.356      0.000    7831.035    7886.506\n",
      "depth       -151.2363      4.820    -31.378      0.000    -160.683    -141.789\n",
      "table       -104.4728      3.141    -33.259      0.000    -110.630     -98.316\n",
      "==============================================================================\n",
      "Omnibus:                    14107.737   Durbin-Watson:                   1.015\n",
      "Prob(Omnibus):                  0.000   Jarque-Bera (JB):           154392.067\n",
      "Skew:                           0.945   Prob(JB):                         0.00\n",
      "Kurtosis:                      11.070   Cond. No.                     5.02e+03\n",
      "==============================================================================\n",
      "\n",
      "Notes:\n",
      "[1] Standard Errors assume that the covariance matrix of the errors is correctly specified.\n",
      "[2] The condition number is large, 5.02e+03. This might indicate that there are\n",
      "strong multicollinearity or other numerical problems.\n"
     ]
    }
   ],
   "source": [
    "# Variables independientes\n",
    "variables_independientes = solemne3[['carat', 'depth', 'table']]\n",
    "\n",
    "# Agregar una constante al modelo (intercepto)\n",
    "variables_independientes = sm.add_constant(variables_independientes)\n",
    "\n",
    "# Variable dependiente\n",
    "variable_dependiente = solemne3['price']\n",
    "\n",
    "# Modelo de regresión lineal múltiple\n",
    "modelo = sm.OLS(variable_dependiente, variables_independientes).fit()\n",
    "\n",
    "print(modelo.summary())\n"
   ]
  },
  {
   "cell_type": "markdown",
   "metadata": {},
   "source": [
    "**Pregunta 6:** Analiza la significancia de los coeficientes, el ajuste del modelo (R²), la significancia de cada variable regresora y la normalidad de los residuos."
   ]
  },
  {
   "cell_type": "code",
   "execution_count": 37,
   "metadata": {},
   "outputs": [
    {
     "data": {
      "image/png": "[encoded data removed]",
      "text/plain": [
       "<Figure size 640x480 with 1 Axes>"
      ]
     },
     "metadata": {},
     "output_type": "display_data"
    },
    {
     "data": {
      "image/png": "[encoded data removed]",
      "text/plain": [
       "<Figure size 640x480 with 1 Axes>"
      ]
     },
     "metadata": {},
     "output_type": "display_data"
    }
   ],
   "source": [
    "# Residuos del modelo\n",
    "residuos = modelo.resid\n",
    "\n",
    "# QQ-plot\n",
    "stats.probplot(residuos, dist=\"norm\", plot=plt)\n",
    "plt.title(\"QQ-Plot de los Residuos\")\n",
    "plt.show()\n",
    "\n",
    "# Histograma de residuos\n",
    "plt.hist(residuos, bins=30, edgecolor='black')\n",
    "plt.title(\"Histograma de Residuos\")\n",
    "plt.xlabel(\"Residuos\")\n",
    "plt.ylabel(\"Frecuencia\")\n",
    "plt.show()\n"
   ]
  },
  {
   "cell_type": "markdown",
   "metadata": {},
   "source": [
    "El coeficiente de determinación (R²) es igual a 0.854. Esto indica que aproximadamente el 85.4% de la variabilidad en el precio de los diamantes se explica por las variables incluidas en el modelo, que son el peso (carat), el porcentaje de profundidad total (depth), y el porcentaje del ancho de la parte superior del diamante en relación con el ancho total (table)."
   ]
  }
 ],
 "metadata": {
  "colab": {
   "provenance": []
  },
  "kernelspec": {
   "display_name": "Python 3 (ipykernel)",
   "language": "python",
   "name": "python3"
  },
  "language_info": {
   "codemirror_mode": {
    "name": "ipython",
    "version": 3
   },
   "file_extension": ".py",
   "mimetype": "text/x-python",
   "name": "python",
   "nbconvert_exporter": "python",
   "pygments_lexer": "ipython3",
   "version": "3.11.7"
  }
 },
 "nbformat": 4,
 "nbformat_minor": 1
}
