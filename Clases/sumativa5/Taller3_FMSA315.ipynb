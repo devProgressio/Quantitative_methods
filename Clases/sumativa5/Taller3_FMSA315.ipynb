{
 "cells": [
  {
   "cell_type": "markdown",
   "metadata": {
    "id": "K36BeeXXh1r_"
   },
   "source": [
    "Resuelva los siguientes ejercicios usando python.\n",
    "En cada  caso  indique cual es la  hipótesis  nula y cual es la  hipótesis  alternativa\n",
    "suba  un solo archivo pdf, con la  resolución de  los 3 ejercicios"
   ]
  },
  {
   "cell_type": "markdown",
   "metadata": {
    "id": "n-FIeWfzdZ_l"
   },
   "source": [
    " ### <font color='blue'>Problema 01</font> (10 puntos)\n",
    "\n",
    " Cuando Nicolás tenía nueve años estableció un tiempo medio de 16.43 segundos al nadar las 25 yardas en estilo libre, con una desviación estándar de 0.8 segundos. Su padre Juan pensó que Nicolás podría nadar más rápido las 25 yardas en estilo libre si utilizaba gafas para nadar. Juan le compró a Nicolás un nuevo par de gafas para nadar costosas y cronometró 15 veces que nadó las 25 yardas en estilo libre. En las 15 veces, el tiempo medio de Nicolás fue de 16 segundos. Juan pensó que las gafas para nadar ayudaron a Nicolás a nadar más rápido que los 16.43 segundos.\n",
    " \n",
    "Realice una prueba de hipótesis con un nivel de significancia igual a 0.05. Supongamos que los tiempos de natación de las 25 yardas en estilo libre son normales."
   ]
  },
  {
   "cell_type": "code",
   "execution_count": 17,
   "metadata": {},
   "outputs": [
    {
     "name": "stdout",
     "output_type": "stream",
     "text": [
      "Rechazar la hipótesis nula.\n",
      "Hay evidencia suficiente para sugerir que las gafas para nadar ayudaron a Nicolás a nadar más rápido.\n"
     ]
    }
   ],
   "source": [
    "import numpy as np\n",
    "from scipy import stats\n",
    "\n",
    "# Datos\n",
    "tiempo_medio_anterior = 16.43\n",
    "desviacion_estandar_anterior = 0.8\n",
    "n_anterior = 15\n",
    "\n",
    "tiempo_medio_nuevo = 16\n",
    "nuevo_tiempo_medio = np.full(n_anterior, tiempo_medio_nuevo)\n",
    "\n",
    "# Realizar la prueba de hipótesis\n",
    "# H0: La media de los nuevos tiempos es igual a la media anterior\n",
    "# H1: La media de los nuevos tiempos es diferente de la media anterior\n",
    "\n",
    "# Nivel de significancia\n",
    "nivel_significancia = 0.05\n",
    "\n",
    "# Calcula el estadístico de prueba y el valor p\n",
    "t_statistic, p_value = stats.ttest_1samp(nuevo_tiempo_medio, tiempo_medio_anterior)\n",
    "\n",
    "# Compara el valor p con el nivel de significancia\n",
    "if p_value < nivel_significancia:\n",
    "    print(\"Rechazar la hipótesis nula.\")\n",
    "    print(\"Hay evidencia suficiente para sugerir que las gafas para nadar ayudaron a Nicolás a nadar más rápido.\")\n",
    "else:\n",
    "    print(\"No se puede rechazar la hipótesis nula.\")\n",
    "    print(\"No hay suficiente evidencia para sugerir que las gafas para nadar ayudaron a Nicolás a nadar más rápido.\")"
   ]
  },
  {
   "cell_type": "markdown",
   "metadata": {
    "id": "TdSzdYwmX4b1"
   },
   "source": [
    "\n",
    "\n",
    "---\n",
    "\n",
    "\n",
    "### <font color='blue'>Problema 02</font> (10 puntos)\n",
    "\n",
    "Para indagar si un nuevo suero frena el desarrollo de la leucemia se seleccionan 9 ratones, todos en una etapa avanzada de la enfermedad. Cinco ratones reciben el tratamiento y cuatro no. Los tiempos de supervivencia, en años, a partir del momento en que comienza el experimento son los siguientes:\n",
    "\n",
    "**Con tratamiento:**  2.1, 5.3, 1.4, 4.6, 0.9\n",
    "\n",
    "**Sin tratamiento:**  1.9, 0.5, 2.8, 3.1\n",
    "\n",
    "con un nivel de  significancia  del  5%,  ¿se puede decir que el suero es eficaz ? realice la prueba de  hipótesis  adecuada, suponga  varianzas  poblaciones  desconocidas e  iguales."
   ]
  },
  {
   "cell_type": "code",
   "execution_count": 18,
   "metadata": {},
   "outputs": [
    {
     "name": "stdout",
     "output_type": "stream",
     "text": [
      "No se puede rechazar la hipótesis nula.\n",
      "No hay suficiente evidencia para sugerir que el suero es eficaz en la supervivencia de ratones con leucemia.\n"
     ]
    }
   ],
   "source": [
    "# Datos\n",
    "tiempos_con_tratamiento = np.array([2.1, 5.3, 1.4, 4.6, 0.9])\n",
    "tiempos_sin_tratamiento = np.array([1.9, 0.5, 2.8, 3.1])\n",
    "\n",
    "# Realizar la prueba de hipótesis\n",
    "# H0: La media de los tiempos con tratamiento es igual a la media de los tiempos sin tratamiento\n",
    "# H1: La media de los tiempos con tratamiento es diferente de la media de los tiempos sin tratamiento\n",
    "\n",
    "# Nivel de significancia\n",
    "nivel_significancia = 0.05\n",
    "\n",
    "# Calcula el estadístico de prueba y el valor p\n",
    "t_statistic, p_value = stats.ttest_ind(tiempos_con_tratamiento, tiempos_sin_tratamiento, equal_var=True)\n",
    "\n",
    "# Compara el valor p con el nivel de significancia\n",
    "if p_value < nivel_significancia:\n",
    "    print(\"Rechazar la hipótesis nula.\")\n",
    "    print(\"Hay evidencia suficiente para sugerir que el suero es eficaz en la supervivencia de ratones con leucemia.\")\n",
    "else:\n",
    "    print(\"No se puede rechazar la hipótesis nula.\")\n",
    "    print(\"No hay suficiente evidencia para sugerir que el suero es eficaz en la supervivencia de ratones con leucemia.\")\n"
   ]
  },
  {
   "cell_type": "markdown",
   "metadata": {
    "id": "fGAP4kj5ZS06"
   },
   "source": [
    "\n",
    "\n",
    "---\n",
    "\n",
    "\n",
    "### <font color='blue'>Problema 03</font> (10 puntos)\n",
    "\n",
    "\n",
    "Las calificaciones de un curso de estadística para un semestre específico fueron las siguientes:\n",
    "\n",
    "\n",
    "| Calificación | A |B |C |D |F |\n",
    "|----------|----------|----------|----------|----------|----------|\n",
    "| N° de calificaciones   | 14 | 18 | 32| 20| 16   |\n",
    "\n",
    "Pruebe la hipótesis, a un nivel de significancia de 0.05, de que la distribución de calificaciones es uniforme."
   ]
  },
  {
   "cell_type": "code",
   "execution_count": 19,
   "metadata": {},
   "outputs": [
    {
     "name": "stdout",
     "output_type": "stream",
     "text": [
      "Rechazar la hipótesis nula.\n",
      "Hay evidencia suficiente para sugerir que la distribución de calificaciones no es uniforme.\n"
     ]
    }
   ],
   "source": [
    "# Datos\n",
    "calificaciones = np.array([14, 18, 32, 20, 16])\n",
    "n_calificaciones = np.sum(calificaciones)\n",
    "\n",
    "# Proporciones esperadas para una distribución uniforme\n",
    "proporciones_esperadas = np.array([1/5, 1/5, 1/5, 1/5, 1/5]) * n_calificaciones\n",
    "\n",
    "# Realizar la prueba de hipótesis\n",
    "# H0: La distribución de calificaciones es uniforme\n",
    "# H1: La distribución de calificaciones no es uniforme\n",
    "\n",
    "# Nivel de significancia\n",
    "nivel_significancia = 0.05\n",
    "\n",
    "# Calcula el estadístico de prueba y el valor p\n",
    "chi2_statistic, p_value = stats.chisquare(calificaciones, f_exp=proporciones_esperadas)\n",
    "\n",
    "# Compara el valor p con el nivel de significancia\n",
    "if p_value < nivel_significancia:\n",
    "    print(\"Rechazar la hipótesis nula.\")\n",
    "    print(\"Hay evidencia suficiente para sugerir que la distribución de calificaciones no es uniforme.\")\n",
    "else:\n",
    "    print(\"No se puede rechazar la hipótesis nula.\")\n",
    "    print(\"No hay suficiente evidencia para sugerir que la distribución de calificaciones es uniforme.\")\n"
   ]
  }
 ],
 "metadata": {
  "colab": {
   "provenance": []
  },
  "kernelspec": {
   "display_name": "Python 3 (ipykernel)",
   "language": "python",
   "name": "python3"
  },
  "language_info": {
   "codemirror_mode": {
    "name": "ipython",
    "version": 3
   },
   "file_extension": ".py",
   "mimetype": "text/x-python",
   "name": "python",
   "nbconvert_exporter": "python",
   "pygments_lexer": "ipython3",
   "version": "3.11.7"
  }
 },
 "nbformat": 4,
 "nbformat_minor": 1
}
