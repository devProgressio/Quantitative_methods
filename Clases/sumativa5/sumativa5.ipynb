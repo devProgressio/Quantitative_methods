{
 "cells": [
  {
   "cell_type": "markdown",
   "metadata": {},
   "source": [
    "\n",
    "### Problema 1\n",
    "\n",
    "Cuando Nicolás tenía nueve años estableció un tiempo medio de 16.43 segundos al nadar las 25 yardas en estilo libre, con una desviación típica de 0.8 segundos. Su padre Juan pensó que Nicolás podría nadar más rápido las 25 yardas en estilo libre si utilizaba gafas para nadar. Juan le compró a Nicolás un nuevo par de gafas para nadar costosas y cronometró 15 veces que nadó las 25 yardas en estilo libre. En las 15 veces, el tiempo medio de Nicolás fue de 16 segundos. Juan pensó que las gafas para nadar ayudaron a Nicolás a nadar más rápido que los 16.43 segundos.\n",
    "Realice una prueba de hipótesis con un nivel de significancia igual a 0.05. Supongamos que los tiempos de natación de las 25 yardas en estilo libre son normales."
   ]
  },
  {
   "cell_type": "code",
   "execution_count": 1,
   "metadata": {},
   "outputs": [
    {
     "name": "stdout",
     "output_type": "stream",
     "text": [
      "Estadístico de prueba: -2.081728548586485\n",
      "Valor crítico: 2.1447866879169273\n",
      "Resultado: No podemos rechazar la hipótesis nula\n"
     ]
    }
   ],
   "source": [
    "import math\n",
    "from scipy.stats import t\n",
    "\n",
    "# Datos proporcionados\n",
    "tiempo_medio_anterior = 16.43  # segundos\n",
    "desviacion_tipica_anterior = 0.8  # segundos\n",
    "nuevas_gafas_tiempos = [16] * 15  # 15 veces con tiempo promedio de 16 segundos\n",
    "\n",
    "# Nueva información\n",
    "nuevas_gafas_media = sum(nuevas_gafas_tiempos) / len(nuevas_gafas_tiempos)\n",
    "nuevas_gafas_desviacion = math.sqrt(sum((x - nuevas_gafas_media) ** 2 for x in nuevas_gafas_tiempos) / (len(nuevas_gafas_tiempos) - 1))\n",
    "\n",
    "# Parámetros para la prueba de hipótesis\n",
    "nivel_significancia = 0.05\n",
    "grados_libertad = len(nuevas_gafas_tiempos) - 1\n",
    "\n",
    "# Calculamos el estadístico de prueba\n",
    "diferencia_medias = nuevas_gafas_media - tiempo_medio_anterior\n",
    "error_estandar = math.sqrt((desviacion_tipica_anterior**2 / len(nuevas_gafas_tiempos)) + (nuevas_gafas_desviacion**2 / len(nuevas_gafas_tiempos)))\n",
    "t_statistic = diferencia_medias / error_estandar\n",
    "\n",
    "# Calculamos el valor crítico\n",
    "valor_critico = t.ppf(1 - nivel_significancia / 2, grados_libertad)\n",
    "\n",
    "# Comparamos el estadístico de prueba con el valor crítico\n",
    "if abs(t_statistic) > valor_critico:\n",
    "    resultado = \"Rechazamos la hipótesis nula\"\n",
    "else:\n",
    "    resultado = \"No podemos rechazar la hipótesis nula\"\n",
    "\n",
    "# Imprimimos los resultados\n",
    "print(f\"Estadístico de prueba: {t_statistic}\")\n",
    "print(f\"Valor crítico: {valor_critico}\")\n",
    "print(\"Resultado:\", resultado)"
   ]
  },
  {
   "cell_type": "markdown",
   "metadata": {},
   "source": [
    "---\n",
    "\n",
    "\n",
    "### Problema 2\n",
    "\n",
    "Para indagar si un nuevo suero frena el desarrollo de la leucemia se seleccionan 9 ratones, todos en una etapa avanzada de la enfermedad. Cinco ratones reciben el tratamiento y cuatro no. Los tiempos de supervivencia, en años, a partir del momento en que comienza el experimento son los siguientes:\n",
    "\n",
    "**Con tratamiento:** 2.1, 5.3, 1.4, 4.6, 0.9\n",
    "\n",
    "**Sin tratamiento:** 1.9, 0.5, 2.8, 3.1\n",
    "\n",
    "A un nivel de significancia de 0.05, responda\n",
    "\n",
    "1. ¿Las varianzas poblacionales se pueden suponer iguales?\n",
    "\n",
    "2. ¿se puede decir que el suero es eficaz?\n",
    "\n",
    "En ambas respuestas debe llevar a cabo las respectivas pruebas de hipótesis."
   ]
  },
  {
   "cell_type": "code",
   "execution_count": 2,
   "metadata": {},
   "outputs": [
    {
     "name": "stdout",
     "output_type": "stream",
     "text": [
      "Prueba de Levene:\n",
      "Estadístico de prueba: 0.7896406564578125\n",
      "Valor p: 0.4037092783034377\n",
      "No se puede rechazar la hipótesis nula: las varianzas poblacionales se pueden suponer iguales.\n"
     ]
    }
   ],
   "source": [
    "from scipy.stats import levene\n",
    "\n",
    "# Datos\n",
    "con_tratamiento = [2.1, 5.3, 1.4, 4.6, 0.9]\n",
    "sin_tratamiento = [1.9, 0.5, 2.8, 3.1]\n",
    "\n",
    "# Prueba de Levene para homogeneidad de varianzas\n",
    "statistic, p_value = levene(con_tratamiento, sin_tratamiento)\n",
    "\n",
    "# Imprimir resultados\n",
    "print(\"Prueba de Levene:\")\n",
    "print(f\"Estadístico de prueba: {statistic}\")\n",
    "print(f\"Valor p: {p_value}\")\n",
    "\n",
    "# Decisión basada en el valor p\n",
    "if p_value < 0.05:\n",
    "    print(\"Se rechaza la hipótesis nula: las varianzas poblacionales no son iguales.\")\n",
    "else:\n",
    "    print(\"No se puede rechazar la hipótesis nula: las varianzas poblacionales se pueden suponer iguales.\")"
   ]
  },
  {
   "cell_type": "code",
   "execution_count": 3,
   "metadata": {},
   "outputs": [
    {
     "name": "stdout",
     "output_type": "stream",
     "text": [
      "\n",
      "Prueba t de Student:\n",
      "Estadístico de prueba: 0.6989859595927902\n",
      "Valor p: 0.5071134417950549\n",
      "No se puede rechazar la hipótesis nula: no hay suficiente evidencia para decir que el suero es eficaz.\n"
     ]
    }
   ],
   "source": [
    "from scipy.stats import ttest_ind\n",
    "\n",
    "# Prueba t de Student para muestras independientes\n",
    "statistic, p_value = ttest_ind(con_tratamiento, sin_tratamiento, equal_var=True)\n",
    "\n",
    "# Imprimir resultados\n",
    "print(\"\\nPrueba t de Student:\")\n",
    "print(f\"Estadístico de prueba: {statistic}\")\n",
    "print(f\"Valor p: {p_value}\")\n",
    "\n",
    "# Decisión basada en el valor p\n",
    "if p_value < 0.05:\n",
    "    print(\"Se rechaza la hipótesis nula: hay evidencia suficiente para decir que el suero es eficaz.\")\n",
    "else:\n",
    "    print(\"No se puede rechazar la hipótesis nula: no hay suficiente evidencia para decir que el suero es eficaz.\")"
   ]
  },
  {
   "cell_type": "markdown",
   "metadata": {},
   "source": [
    "\n",
    "\n",
    "---\n",
    "\n",
    "\n",
    "### Problema 03\n",
    "\n",
    "\n",
    "Las calificaciones de un curso de estadística para un semestre específico fueron las siguientes:\n",
    "\n",
    "\n",
    "| Calificación | A |B |C |D |F |\n",
    "|----------|----------|----------|----------|----------|----------|\n",
    "| f    | 14 | 18 | 32| 20| 16   |\n",
    "\n",
    "Pruebe la hipótesis, a un nivel de significancia de 0.05, de que la distribución de calificaciones es uniforme."
   ]
  },
  {
   "cell_type": "code",
   "execution_count": 4,
   "metadata": {},
   "outputs": [
    {
     "name": "stdout",
     "output_type": "stream",
     "text": [
      "Estadístico de prueba: 4.3777619009817155\n",
      "Valor p: 0.35728878792150676\n",
      "Grados de libertad: 4\n",
      "Frecuencias esperadas: [[17. 19. 26. 20. 18.]\n",
      " [17. 19. 26. 20. 18.]]\n",
      "\n",
      "No se puede rechazar la hipótesis nula: la distribución de calificaciones es uniforme.\n"
     ]
    }
   ],
   "source": [
    "from scipy.stats import chi2_contingency\n",
    "\n",
    "# Frecuencias observadas\n",
    "f_obs = [14, 18, 32, 20, 16]\n",
    "\n",
    "# Probabilidades esperadas bajo la hipótesis de uniformidad\n",
    "total_obs = sum(f_obs)\n",
    "prob_uniforme = [1/5] * 5  # Distribución uniforme con 5 categorías\n",
    "\n",
    "f_exp = [prob * total_obs for prob in prob_uniforme]\n",
    "\n",
    "# Prueba de chi-cuadrado\n",
    "statistic, p_value, dof, expected = chi2_contingency([f_obs, f_exp])\n",
    "\n",
    "# Imprimir resultados\n",
    "print(f\"Estadístico de prueba: {statistic}\")\n",
    "print(f\"Valor p: {p_value}\")\n",
    "print(f\"Grados de libertad: {dof}\")\n",
    "print(\"Frecuencias esperadas:\", expected)\n",
    "\n",
    "# Decisión basada en el valor p\n",
    "nivel_significancia = 0.05\n",
    "if p_value < nivel_significancia:\n",
    "    print(\"\\nSe rechaza la hipótesis nula: la distribución de calificaciones no es uniforme.\")\n",
    "else:\n",
    "    print(\"\\nNo se puede rechazar la hipótesis nula: la distribución de calificaciones es uniforme.\")\n"
   ]
  },
  {
   "cell_type": "code",
   "execution_count": 5,
   "metadata": {},
   "outputs": [
    {
     "name": "stdout",
     "output_type": "stream",
     "text": [
      "Rechazar la hipótesis nula.\n",
      "Hay evidencia suficiente para sugerir que las gafas para nadar ayudaron a Nicolás a nadar más rápido.\n"
     ]
    },
    {
     "name": "stderr",
     "output_type": "stream",
     "text": [
      "C:\\Users\\atomk\\AppData\\Local\\Packages\\PythonSoftwareFoundation.Python.3.11_qbz5n2kfra8p0\\LocalCache\\local-packages\\Python311\\site-packages\\scipy\\stats\\_axis_nan_policy.py:523: RuntimeWarning: Precision loss occurred in moment calculation due to catastrophic cancellation. This occurs when the data are nearly identical. Results may be unreliable.\n",
      "  res = hypotest_fun_out(*samples, **kwds)\n"
     ]
    }
   ],
   "source": [
    "import numpy as np\n",
    "from scipy import stats\n",
    "\n",
    "# Datos del problema\n",
    "tiempo_medio_nicolas = 16.43\n",
    "desviacion_estandar_nicolas = 0.8\n",
    "n_muestras = 15\n",
    "tiempo_medio_gafas = 16\n",
    "\n",
    "# Realizar la prueba de hipótesis\n",
    "# H0: El tiempo medio con gafas es igual al tiempo medio de Nicolás\n",
    "# H1: El tiempo medio con gafas es menor que el tiempo medio de Nicolás\n",
    "\n",
    "# Calcular el estadístico de prueba y el valor p\n",
    "t_statistic, p_value = stats.ttest_1samp(np.full(n_muestras, tiempo_medio_gafas), tiempo_medio_nicolas)\n",
    "\n",
    "# Compara el valor p con el nivel de significancia\n",
    "nivel_significancia = 0.05\n",
    "if p_value < nivel_significancia:\n",
    "    print(\"Rechazar la hipótesis nula.\")\n",
    "    print(\"Hay evidencia suficiente para sugerir que las gafas para nadar ayudaron a Nicolás a nadar más rápido.\")\n",
    "else:\n",
    "    print(\"No se puede rechazar la hipótesis nula.\")\n",
    "    print(\"No hay suficiente evidencia para sugerir que las gafas para nadar ayudaron a Nicolás a nadar más rápido.\")\n"
   ]
  }
 ],
 "metadata": {
  "kernelspec": {
   "display_name": "Python 3",
   "language": "python",
   "name": "python3"
  },
  "language_info": {
   "codemirror_mode": {
    "name": "ipython",
    "version": 3
   },
   "file_extension": ".py",
   "mimetype": "text/x-python",
   "name": "python",
   "nbconvert_exporter": "python",
   "pygments_lexer": "ipython3",
   "version": "3.11.7"
  }
 },
 "nbformat": 4,
 "nbformat_minor": 2
}
