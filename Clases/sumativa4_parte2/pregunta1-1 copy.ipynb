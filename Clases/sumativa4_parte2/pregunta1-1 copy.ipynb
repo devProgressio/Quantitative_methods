{
 "cells": [
  {
   "cell_type": "code",
   "execution_count": 1,
   "metadata": {},
   "outputs": [
    {
     "name": "stdout",
     "output_type": "stream",
     "text": [
      "La probabilidad de que un viaje tome al menos 30 minutos es del 5.72%.\n"
     ]
    }
   ],
   "source": [
    "from scipy.stats import norm\n",
    "\n",
    "# Datos proporcionados\n",
    "tiempo_promedio = 24  # minutos\n",
    "desviacion_estandar = 3.8  # minutos\n",
    "hora_salida = 8.75  # 8:45 horas\n",
    "\n",
    "# Convertir la hora de salida a minutos\n",
    "minutos_salida = hora_salida * 60\n",
    "\n",
    "# Calcular el valor z para 30 minutos\n",
    "tiempo_objetivo = 30\n",
    "z = (tiempo_objetivo - tiempo_promedio) / desviacion_estandar\n",
    "\n",
    "# Calcular la probabilidad de que un viaje tome al menos 30 minutos\n",
    "probabilidad_al_menos_30_min = 1 - norm.cdf(z)\n",
    "\n",
    "# Mostrar el resultado como porcentaje\n",
    "porcentaje_al_menos_30_min = probabilidad_al_menos_30_min * 100\n",
    "print(f\"La probabilidad de que un viaje tome al menos 30 minutos es del {porcentaje_al_menos_30_min:.2f}%.\")\n"
   ]
  },
  {
   "cell_type": "code",
   "execution_count": 8,
   "metadata": {},
   "outputs": [
    {
     "name": "stdout",
     "output_type": "stream",
     "text": [
      "La probabilidad de llegar tarde al trabajo es del 100.00%.\n"
     ]
    }
   ],
   "source": [
    "from scipy.stats import norm\n",
    "\n",
    "# Datos proporcionados\n",
    "tiempo_promedio = 24  # minutos\n",
    "desviacion_estandar = 3.8  # minutos\n",
    "hora_salida = 8.75  # 8:45 horas\n",
    "hora_apertura = 9.0  # 9:00 horas\n",
    "\n",
    "# Convertir las horas a minutos\n",
    "minutos_salida = hora_salida * 60\n",
    "minutos_apertura = hora_apertura * 60\n",
    "\n",
    "# Calcular el tiempo total promedio\n",
    "tiempo_total_promedio = 2 * tiempo_promedio\n",
    "\n",
    "# Calcular el valor z para el tiempo total\n",
    "z = (minutos_apertura - tiempo_total_promedio - minutos_salida) / desviacion_estandar\n",
    "\n",
    "# Calcular la probabilidad de llegar tarde\n",
    "probabilidad_llegar_tarde = 1 - norm.cdf(z)\n",
    "\n",
    "# Mostrar el resultado como porcentaje\n",
    "porcentaje_llegar_tarde = probabilidad_llegar_tarde * 100\n",
    "print(f\"La probabilidad de llegar tarde al trabajo es del {porcentaje_llegar_tarde:.2f}%.\")\n",
    "\n"
   ]
  },
  {
   "cell_type": "code",
   "execution_count": 5,
   "metadata": {},
   "outputs": [
    {
     "name": "stdout",
     "output_type": "stream",
     "text": [
      "La probabilidad de perderse el café es del 200.00%.\n"
     ]
    }
   ],
   "source": [
    "from scipy.stats import norm\n",
    "\n",
    "# Datos proporcionados\n",
    "tiempo_promedio = 24  # minutos\n",
    "desviacion_estandar = 3.8  # minutos\n",
    "hora_salida = 8.583333  # 8:35 horas\n",
    "hora_apertura = 9.0  # 9:00 horas\n",
    "hora_inicio_cafe = 8.833333  # 8:50 horas\n",
    "hora_fin_cafe = 9.0  # 9:00 horas\n",
    "\n",
    "# Convertir las horas a minutos\n",
    "minutos_salida = hora_salida * 60\n",
    "minutos_apertura = hora_apertura * 60\n",
    "minutos_inicio_cafe = hora_inicio_cafe * 60\n",
    "minutos_fin_cafe = hora_fin_cafe * 60\n",
    "\n",
    "# Calcular el tiempo total promedio\n",
    "tiempo_total_promedio = 2 * tiempo_promedio\n",
    "\n",
    "# Calcular el valor z para el tiempo total\n",
    "z = (minutos_apertura - tiempo_total_promedio - minutos_salida) / desviacion_estandar\n",
    "\n",
    "# Calcular la probabilidad de llegar después de que se sirva el café\n",
    "probabilidad_llegar_despues_cafe = 1 - norm.cdf(z)\n",
    "\n",
    "# Calcular la probabilidad de llegar antes de que se sirva el café\n",
    "probabilidad_llegar_antes_cafe = norm.cdf((minutos_inicio_cafe - tiempo_total_promedio - minutos_salida) / desviacion_estandar)\n",
    "\n",
    "# Calcular la probabilidad de perderse el café\n",
    "probabilidad_perderse_cafe = probabilidad_llegar_despues_cafe + (1 - probabilidad_llegar_antes_cafe)\n",
    "\n",
    "# Mostrar el resultado como porcentaje\n",
    "porcentaje_perderse_cafe = probabilidad_perderse_cafe * 100\n",
    "print(f\"La probabilidad de perderse el café es del {porcentaje_perderse_cafe:.2f}%.\")"
   ]
  },
  {
   "cell_type": "code",
   "execution_count": 7,
   "metadata": {},
   "outputs": [
    {
     "name": "stdout",
     "output_type": "stream",
     "text": [
      "La probabilidad de que en 5 de los 12 viajes tomen al menos 30 minutos es del 0.03%.\n"
     ]
    }
   ],
   "source": [
    "from scipy.stats import binom\n",
    "\n",
    "# Datos proporcionados\n",
    "numero_total_viajes = 12\n",
    "numero_exitos_deseados = 5\n",
    "\n",
    "# Calcular la probabilidad de éxito en un solo viaje (tomar al menos 30 minutos)\n",
    "tiempo_objetivo = 30\n",
    "z = (tiempo_objetivo - tiempo_promedio) / desviacion_estandar\n",
    "probabilidad_exito_individual = 1 - norm.cdf(z)\n",
    "\n",
    "# Calcular la probabilidad de exactamente 5 de los 12 viajes tomando al menos 30 minutos\n",
    "probabilidad_exactamente_5_viajes = binom.pmf(numero_exitos_deseados, numero_total_viajes, probabilidad_exito_individual)\n",
    "\n",
    "# Mostrar el resultado como porcentaje\n",
    "porcentaje_exactamente_5_viajes = probabilidad_exactamente_5_viajes * 100\n",
    "print(f\"La probabilidad de que en 5 de los 12 viajes tomen al menos 30 minutos es del {porcentaje_exactamente_5_viajes:.2f}%.\")\n"
   ]
  }
 ],
 "metadata": {
  "kernelspec": {
   "display_name": "Python 3",
   "language": "python",
   "name": "python3"
  },
  "language_info": {
   "codemirror_mode": {
    "name": "ipython",
    "version": 3
   },
   "file_extension": ".py",
   "mimetype": "text/x-python",
   "name": "python",
   "nbconvert_exporter": "python",
   "pygments_lexer": "ipython3",
   "version": "3.11.7"
  }
 },
 "nbformat": 4,
 "nbformat_minor": 2
}
