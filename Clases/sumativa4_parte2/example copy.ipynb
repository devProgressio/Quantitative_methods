{
 "cells": [
  {
   "cell_type": "markdown",
   "metadata": {},
   "source": [
    "Un abogado viaja todos los días de su casa en los suburbios a su o�cina en el centro de la ciudad. El tiempo promedio para un\n",
    "viaje solo de ida es de 24 minutos, con una desviación estándar de 3.8 minutos. Si se supone que la distribución de los tiempos de\n",
    "viaje está distribuida normalmente."
   ]
  },
  {
   "cell_type": "code",
   "execution_count": 1,
   "metadata": {},
   "outputs": [
    {
     "name": "stdout",
     "output_type": "stream",
     "text": [
      "1. La probabilidad de que un viaje tome al menos 30 minutos es: 0.0572\n",
      "2. El porcentaje de las veces que llegará tarde al trabajo es: 0.00%\n",
      "3. La probabilidad de que se pierda el café es: 1.0000\n",
      "4. La probabilidad de que en 5 de los 12 viajes tomen al menos 30 minutos es: 0.0003\n"
     ]
    }
   ],
   "source": [
    "import scipy.stats as stats\n",
    "\n",
    "# Datos proporcionados\n",
    "tiempo_promedio = 24  # minutos\n",
    "desviacion_estandar = 3.8  # minutos\n",
    "\n",
    "# 1. Probabilidad de que un viaje tome al menos 30 minutos\n",
    "prob_30_min_o_mas = 1 - stats.norm.cdf(30, loc=tiempo_promedio, scale=desviacion_estandar)\n",
    "print(f\"1. La probabilidad de que un viaje tome al menos 30 minutos es: {prob_30_min_o_mas:.4f}\")\n",
    "\n",
    "# 2. Porcentaje de las veces que llegará tarde al trabajo\n",
    "prob_llegar_tarde = 1 - stats.norm.cdf(540, loc=tiempo_promedio*12, scale=desviacion_estandar*(12**0.5))\n",
    "print(f\"2. El porcentaje de las veces que llegará tarde al trabajo es: {prob_llegar_tarde*100:.2f}%\")\n",
    "\n",
    "# 3. Probabilidad de que se pierda el café\n",
    "prob_pierde_cafe = stats.norm.cdf(505, loc=tiempo_promedio*10, scale=desviacion_estandar*(10**0.5))\n",
    "print(f\"3. La probabilidad de que se pierda el café es: {prob_pierde_cafe:.4f}\")\n",
    "\n",
    "# 4. Probabilidad de que en 5 de los 12 viajes tomen al menos 30 minutos\n",
    "prob_5_viajes_30_min = stats.binom.pmf(5, n=12, p=prob_30_min_o_mas)\n",
    "print(f\"4. La probabilidad de que en 5 de los 12 viajes tomen al menos 30 minutos es: {prob_5_viajes_30_min:.4f}\")"
   ]
  },
  {
   "cell_type": "code",
   "execution_count": 2,
   "metadata": {},
   "outputs": [
    {
     "name": "stdout",
     "output_type": "stream",
     "text": [
      "1. La probabilidad de que un viaje tome al menos 30 minutos es: 0.0572\n",
      "2. El porcentaje de las veces que llegará tarde al trabajo es: 100.00%\n",
      "3. La probabilidad de que se pierda el café es: 0.0000\n",
      "4. La probabilidad de que en 5 de los 12 viajes tomen al menos 30 minutos es: 0.0003\n"
     ]
    }
   ],
   "source": [
    "import scipy.stats as stats\n",
    "\n",
    "# Datos proporcionados\n",
    "tiempo_promedio = 24  # minutos\n",
    "desviacion_estandar = 3.8  # minutos\n",
    "viajes_diarios = 12\n",
    "\n",
    "# 1. Probabilidad de que un viaje tome al menos 30 minutos\n",
    "prob_30_min_o_mas = 1 - stats.norm.cdf(30, loc=tiempo_promedio, scale=desviacion_estandar)\n",
    "print(f\"1. La probabilidad de que un viaje tome al menos 30 minutos es: {prob_30_min_o_mas:.4f}\")\n",
    "\n",
    "# 2. Porcentaje de las veces que llegará tarde al trabajo\n",
    "tiempo_salida_min = 8 * 60 + 45  # 8:45 horas convertido a minutos\n",
    "prob_llegar_tarde = 1 - stats.norm.cdf(tiempo_salida_min, loc=9 * 60, scale=desviacion_estandar)\n",
    "print(f\"2. El porcentaje de las veces que llegará tarde al trabajo es: {prob_llegar_tarde * 100:.2f}%\")\n",
    "\n",
    "# 3. Probabilidad de que se pierda el café\n",
    "tiempo_salida_cafe_min = 8 * 60 + 35  # 8:35 horas convertido a minutos\n",
    "tiempo_fin_cafe_min = 9 * 60  # 9:00 horas convertido a minutos\n",
    "prob_pierde_cafe = 1 - stats.norm.cdf(tiempo_fin_cafe_min, loc=tiempo_salida_cafe_min, scale=desviacion_estandar)\n",
    "print(f\"3. La probabilidad de que se pierda el café es: {prob_pierde_cafe:.4f}\")\n",
    "\n",
    "# 4. Probabilidad de que en 5 de los 12 viajes tomen al menos 30 minutos\n",
    "prob_5_viajes_30_min = stats.binom.pmf(5, n=viajes_diarios, p=prob_30_min_o_mas)\n",
    "print(f\"4. La probabilidad de que en 5 de los 12 viajes tomen al menos 30 minutos es: {prob_5_viajes_30_min:.4f}\")"
   ]
  },
  {
   "cell_type": "markdown",
   "metadata": {},
   "source": [
    "1. Determine el valor de de modo que la distribución sea una función de cuantía.\n"
   ]
  },
  {
   "cell_type": "code",
   "execution_count": 6,
   "metadata": {},
   "outputs": [
    {
     "name": "stdout",
     "output_type": "stream",
     "text": [
      "1. El valor de x que actúa como modo es: 4\n"
     ]
    }
   ],
   "source": [
    "# Datos proporcionados\n",
    "probabilidades = [0.25, 0.4, 0.1, 3, 0.03, 2]\n",
    "\n",
    "# Normalizar probabilidades\n",
    "probabilidades_normalizadas = [p / sum(probabilidades) for p in probabilidades]\n",
    "\n",
    "# Identificar el valor de x con la mayor probabilidad\n",
    "modo = probabilidades_normalizadas.index(max(probabilidades_normalizadas)) + 1  # Sumamos 1 porque los índices comienzan desde 0\n",
    "\n",
    "# Imprimir el valor de modo\n",
    "print(f\"1. El valor de x que actúa como modo es: {modo}\")"
   ]
  },
  {
   "cell_type": "markdown",
   "metadata": {},
   "source": [
    "2. Grafique la distribución asociada al problema."
   ]
  },
  {
   "cell_type": "code",
   "execution_count": 3,
   "metadata": {},
   "outputs": [
    {
     "data": {
      "image/png": "[encoded data removed]",
      "text/plain": [
       "<Figure size 640x480 with 1 Axes>"
      ]
     },
     "metadata": {},
     "output_type": "display_data"
    }
   ],
   "source": [
    "import matplotlib.pyplot as plt\n",
    "\n",
    "# Datos proporcionados\n",
    "valores_x = [1, 1, 2, 3, 4, 5, 6]\n",
    "probabilidades = [0.25, 0.4, 0.8, 0.1, 3, 0.03, 2]\n",
    "\n",
    "# Graficar la función de cuantía\n",
    "plt.bar(valores_x, probabilidades, color='blue', alpha=0.7)\n",
    "plt.xlabel('Número de seguros vendidos')\n",
    "plt.ylabel('Probabilidad')\n",
    "plt.title('Función de cuantía de seguros de vida diarios')\n",
    "plt.show()"
   ]
  },
  {
   "cell_type": "markdown",
   "metadata": {},
   "source": [
    "3. Si se eligen 15 ejecutivos, determine la probabilidad que 5 de ellos no vendan seguros."
   ]
  },
  {
   "cell_type": "code",
   "execution_count": 4,
   "metadata": {},
   "outputs": [
    {
     "name": "stdout",
     "output_type": "stream",
     "text": [
      "3. Probabilidad de que 5 de 15 ejecutivos no vendan seguros: 0.0007\n"
     ]
    }
   ],
   "source": [
    "from scipy.stats import binom\n",
    "\n",
    "n_ejecutivos = 15\n",
    "prob_no_venta = 1 - probabilidades[0]  # Probabilidad de no venta para un ejecutivo\n",
    "prob_5_no_venta = binom.pmf(5, n_ejecutivos, prob_no_venta)\n",
    "print(f\"3. Probabilidad de que 5 de 15 ejecutivos no vendan seguros: {prob_5_no_venta:.4f}\")"
   ]
  },
  {
   "cell_type": "markdown",
   "metadata": {},
   "source": [
    "4. Si el número de seguros que vende un ejecutivo por día es igual al valor esperado del modelo ¿cuál es la probabilidad de que\n",
    "en un día el ejecutivo venda mas de 6 seguros?"
   ]
  },
  {
   "cell_type": "code",
   "execution_count": 5,
   "metadata": {},
   "outputs": [
    {
     "name": "stdout",
     "output_type": "stream",
     "text": [
      "4. Probabilidad de que un ejecutivo venda más de 6 seguros: 0.0000\n"
     ]
    }
   ],
   "source": [
    "prob_mas_de_6 = sum(probabilidades[valores_x.index(x)] for x in valores_x if x > 6)\n",
    "print(f\"4. Probabilidad de que un ejecutivo venda más de 6 seguros: {prob_mas_de_6:.4f}\")"
   ]
  }
 ],
 "metadata": {
  "kernelspec": {
   "display_name": "Python 3",
   "language": "python",
   "name": "python3"
  },
  "language_info": {
   "codemirror_mode": {
    "name": "ipython",
    "version": 3
   },
   "file_extension": ".py",
   "mimetype": "text/x-python",
   "name": "python",
   "nbconvert_exporter": "python",
   "pygments_lexer": "ipython3",
   "version": "3.11.7"
  }
 },
 "nbformat": 4,
 "nbformat_minor": 2
}
