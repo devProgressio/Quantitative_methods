{
 "cells": [
  {
   "cell_type": "markdown",
   "metadata": {},
   "source": [
    "**Enunciado:**\n",
    "\n",
    "Un abogado viaja todos los días de su casa en los suburbios a su oficina en el centro de la ciudad.\n",
    "El tiempo promedio para un viaje solo de ida es de **24 minutos**, con una **desviación estándar de 3.8 minutos**. Si se supone que la distribución de los tiempos de\n",
    "viaje está distribuida normalmente."
   ]
  },
  {
   "cell_type": "code",
   "execution_count": 1,
   "metadata": {},
   "outputs": [],
   "source": [
    "import scipy.stats as stats\n",
    "import math\n",
    "\n",
    "# Datos en minutos.\n",
    "tiempo_promedio = 24\n",
    "desviacion_estandar = 3.8 "
   ]
  },
  {
   "cell_type": "markdown",
   "metadata": {},
   "source": [
    "1. ¿Cuál es la probabilidad de que un viaje tome al menos 30 minutos?\n"
   ]
  },
  {
   "cell_type": "code",
   "execution_count": 2,
   "metadata": {},
   "outputs": [
    {
     "name": "stdout",
     "output_type": "stream",
     "text": [
      "La probabilidad de que un viaje tome al menos 30 minutos es: 5.72%\n"
     ]
    }
   ],
   "source": [
    "# Probabilidad de que un viaje tome al menos 30 minutos\n",
    "prob_30_min_o_mas = 1 - stats.norm.cdf(30, loc=tiempo_promedio, scale=desviacion_estandar)\n",
    "print(f\"La probabilidad de que un viaje tome al menos 30 minutos es: {prob_30_min_o_mas:.2%}\")\n"
   ]
  },
  {
   "cell_type": "markdown",
   "metadata": {},
   "source": [
    "2. Si la oficina abre a las 9:00 horas y él sale a diario de su casa a las 8:45 horas ¿qué porcentaje de las veces llegará tarde al\n",
    "trabajo?."
   ]
  },
  {
   "cell_type": "code",
   "execution_count": 3,
   "metadata": {},
   "outputs": [
    {
     "name": "stdout",
     "output_type": "stream",
     "text": [
      "El porcentaje de veces que llegará tarde al trabajo es: 100.00%\n"
     ]
    }
   ],
   "source": [
    "# Datos del problema en minutos.\n",
    "hora_salida = 8 * 60 + 45\n",
    "hora_llegada_tardia = 9 * 60\n",
    "\n",
    "# Calcular z\n",
    "z = (hora_llegada_tardia - tiempo_promedio) / desviacion_estandar\n",
    "\n",
    "# Calcular la probabilidad utilizando la función de densidad acumulativa (CDF)\n",
    "probabilidad_llegar_tarde = stats.norm.cdf(z)\n",
    "\n",
    "# Calcular el porcentaje (multiplicar por 100 para obtener el porcentaje)\n",
    "porcentaje_llegar_tarde = probabilidad_llegar_tarde * 100\n",
    "\n",
    "print(f\"El porcentaje de veces que llegará tarde al trabajo es: {porcentaje_llegar_tarde:.2f}%\")\n"
   ]
  },
  {
   "cell_type": "markdown",
   "metadata": {},
   "source": [
    "3. Si sale de su casa a las 8:35 horas y el café se sirve en la oficina de 8:50 a 9:00 horas ¿cuál es la probabilidad de que se\n",
    "pierda el café?."
   ]
  },
  {
   "cell_type": "code",
   "execution_count": 4,
   "metadata": {},
   "outputs": [
    {
     "name": "stdout",
     "output_type": "stream",
     "text": [
      "El porcentaje de veces que se perderá el café es: 0.00%\n"
     ]
    }
   ],
   "source": [
    "# Probabilidad de que se pierda el café.\n",
    "\n",
    "# Datos del problema\n",
    "hora_salida2 = 8 * 60 + 35\n",
    "hora_inicio_cafe = 8 * 60 + 50\n",
    "hora_llegada_tardia2 = 9 * 60\n",
    "\n",
    "# Calcular z\n",
    "z2 = (hora_llegada_tardia2 - tiempo_promedio) / desviacion_estandar\n",
    "\n",
    "# Calcular la probabilidad utilizando la función de densidad acumulativa (CDF)\n",
    "probabilidad_llegar_tarde = stats.norm.cdf(z2)\n",
    "\n",
    "# Calcular la probabilidad de perderse el café (llegar después de que el café termine)\n",
    "probabilidad_perder_cafe = 1 - stats.norm.cdf((hora_inicio_cafe - tiempo_promedio) / desviacion_estandar)\n",
    "\n",
    "# Calcular el porcentaje (multiplicar por 100 para obtener el porcentaje)\n",
    "porcentaje_perder_cafe = (probabilidad_llegar_tarde * probabilidad_perder_cafe) * 100\n",
    "\n",
    "print(f\"El porcentaje de veces que se perderá el café es: {porcentaje_perder_cafe:.2f}%\")"
   ]
  },
  {
   "cell_type": "markdown",
   "metadata": {},
   "source": [
    "4. Calcule la probabilidad de que en 5 de los 12 viajes tomen al menos 30 minutos."
   ]
  },
  {
   "cell_type": "code",
   "execution_count": 7,
   "metadata": {},
   "outputs": [
    {
     "name": "stdout",
     "output_type": "stream",
     "text": [
      "La probabilidad de que en 5 de los 12 viajes tomen al menos 30 minutos es: 0.032%\n"
     ]
    }
   ],
   "source": [
    "# Probabilidad de que en 5 de los 12 viajes tomen al menos 30 minutos\n",
    "\n",
    "# Datos del problema\n",
    "numero_viajes_total = 12\n",
    "numero_viajes_exitosos = 5\n",
    "umbral_tiempo = 30\n",
    "\n",
    "# Calcular la probabilidad de que un solo viaje tome al menos 30 minutos\n",
    "probabilidad_exitoso = 1 - stats.norm.cdf((umbral_tiempo - tiempo_promedio) / desviacion_estandar)\n",
    "\n",
    "# Calcular la probabilidad utilizando la distribución binomial\n",
    "probabilidad_binomial = math.comb(numero_viajes_total, numero_viajes_exitosos) * (probabilidad_exitoso ** numero_viajes_exitosos) * ((1 - probabilidad_exitoso) ** (numero_viajes_total - numero_viajes_exitosos))\n",
    "\n",
    "print(f\"La probabilidad de que en 5 de los 12 viajes tomen al menos 30 minutos es: {probabilidad_binomial:.3%}\")"
   ]
  }
 ],
 "metadata": {
  "kernelspec": {
   "display_name": "Python 3",
   "language": "python",
   "name": "python3"
  },
  "language_info": {
   "codemirror_mode": {
    "name": "ipython",
    "version": 3
   },
   "file_extension": ".py",
   "mimetype": "text/x-python",
   "name": "python",
   "nbconvert_exporter": "python",
   "pygments_lexer": "ipython3",
   "version": "3.11.7"
  }
 },
 "nbformat": 4,
 "nbformat_minor": 2
}
