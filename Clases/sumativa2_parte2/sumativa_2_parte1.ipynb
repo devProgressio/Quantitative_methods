{
 "cells": [
  {
   "cell_type": "code",
   "execution_count": 73,
   "metadata": {},
   "outputs": [],
   "source": [
    "# Imports necesarios.\n",
    "import matplotlib.pyplot as plt\n",
    "import seaborn as sns\n",
    "import pandas as pd"
   ]
  },
  {
   "cell_type": "code",
   "execution_count": 74,
   "metadata": {},
   "outputs": [
    {
     "data": {
      "text/html": [
       "<div>\n",
       "<style scoped>\n",
       "    .dataframe tbody tr th:only-of-type {\n",
       "        vertical-align: middle;\n",
       "    }\n",
       "\n",
       "    .dataframe tbody tr th {\n",
       "        vertical-align: top;\n",
       "    }\n",
       "\n",
       "    .dataframe thead th {\n",
       "        text-align: right;\n",
       "    }\n",
       "</style>\n",
       "<table border=\"1\" class=\"dataframe\">\n",
       "  <thead>\n",
       "    <tr style=\"text-align: right;\">\n",
       "      <th></th>\n",
       "      <th>Profundidad_Perforacion</th>\n",
       "      <th>Tiempo_Perforacion</th>\n",
       "      <th>Costo_Operacion</th>\n",
       "      <th>Concentracion_Cobre</th>\n",
       "      <th>Num_Trabajadores</th>\n",
       "      <th>Tipo_Maquinaria</th>\n",
       "      <th>Grupo_Turno</th>\n",
       "    </tr>\n",
       "  </thead>\n",
       "  <tbody>\n",
       "    <tr>\n",
       "      <th>0</th>\n",
       "      <td>97.72</td>\n",
       "      <td>63.44</td>\n",
       "      <td>5298.69</td>\n",
       "      <td>34.23</td>\n",
       "      <td>22.0</td>\n",
       "      <td>Maquinaria_A</td>\n",
       "      <td>Turno_Noche</td>\n",
       "    </tr>\n",
       "    <tr>\n",
       "      <th>1</th>\n",
       "      <td>117.64</td>\n",
       "      <td>64.76</td>\n",
       "      <td>5697.33</td>\n",
       "      <td>33.90</td>\n",
       "      <td>25.0</td>\n",
       "      <td>Maquinaria_B</td>\n",
       "      <td>Turno_Noche</td>\n",
       "    </tr>\n",
       "    <tr>\n",
       "      <th>2</th>\n",
       "      <td>97.86</td>\n",
       "      <td>56.05</td>\n",
       "      <td>5225.78</td>\n",
       "      <td>27.79</td>\n",
       "      <td>24.0</td>\n",
       "      <td>Maquinaria_A</td>\n",
       "      <td>Turno_Noche</td>\n",
       "    </tr>\n",
       "    <tr>\n",
       "      <th>3</th>\n",
       "      <td>119.94</td>\n",
       "      <td>56.35</td>\n",
       "      <td>5198.99</td>\n",
       "      <td>33.67</td>\n",
       "      <td>28.0</td>\n",
       "      <td>Maquinaria_B</td>\n",
       "      <td>Turno_Noche</td>\n",
       "    </tr>\n",
       "    <tr>\n",
       "      <th>4</th>\n",
       "      <td>119.49</td>\n",
       "      <td>63.92</td>\n",
       "      <td>5866.86</td>\n",
       "      <td>38.16</td>\n",
       "      <td>24.0</td>\n",
       "      <td>Maquinaria_B</td>\n",
       "      <td>Turno_Mañana</td>\n",
       "    </tr>\n",
       "  </tbody>\n",
       "</table>\n",
       "</div>"
      ],
      "text/plain": [
       "   Profundidad_Perforacion  Tiempo_Perforacion  Costo_Operacion  \\\n",
       "0                    97.72               63.44          5298.69   \n",
       "1                   117.64               64.76          5697.33   \n",
       "2                    97.86               56.05          5225.78   \n",
       "3                   119.94               56.35          5198.99   \n",
       "4                   119.49               63.92          5866.86   \n",
       "\n",
       "   Concentracion_Cobre  Num_Trabajadores Tipo_Maquinaria   Grupo_Turno  \n",
       "0                34.23              22.0    Maquinaria_A   Turno_Noche  \n",
       "1                33.90              25.0    Maquinaria_B   Turno_Noche  \n",
       "2                27.79              24.0    Maquinaria_A   Turno_Noche  \n",
       "3                33.67              28.0    Maquinaria_B   Turno_Noche  \n",
       "4                38.16              24.0    Maquinaria_B  Turno_Mañana  "
      ]
     },
     "execution_count": 74,
     "metadata": {},
     "output_type": "execute_result"
    }
   ],
   "source": [
    "# Base de datos CSV\n",
    "data = pd.read_csv(\"base_datos.csv\", encoding='utf-8', sep=\",\", decimal=\".\")\n",
    "data.head() # Cabecera de los datos."
   ]
  },
  {
   "cell_type": "code",
   "execution_count": 96,
   "metadata": {},
   "outputs": [
    {
     "data": {
      "text/plain": [
       "52.58"
      ]
     },
     "execution_count": 96,
     "metadata": {},
     "output_type": "execute_result"
    }
   ],
   "source": [
    "#media tiempo perforacion2 decimales.\n",
    "media_tp = data[\"Tiempo_Perforacion\"].mean().round(2)\n",
    "media_tp"
   ]
  },
  {
   "cell_type": "code",
   "execution_count": 97,
   "metadata": {},
   "outputs": [
    {
     "data": {
      "text/plain": [
       "22.73"
      ]
     },
     "execution_count": 97,
     "metadata": {},
     "output_type": "execute_result"
    }
   ],
   "source": [
    "#Media numero trabajadores2 decimales.\n",
    "media_nt = data[\"Num_Trabajadores\"].mean().round(2)\n",
    "media_nt"
   ]
  },
  {
   "cell_type": "code",
   "execution_count": 98,
   "metadata": {},
   "outputs": [
    {
     "data": {
      "text/plain": [
       "6.45"
      ]
     },
     "execution_count": 98,
     "metadata": {},
     "output_type": "execute_result"
    }
   ],
   "source": [
    "#desviación estandar\n",
    "desviacion_tp = data[\"Tiempo_Perforacion\"].std().round(2)\n",
    "desviacion_tp"
   ]
  },
  {
   "cell_type": "code",
   "execution_count": 99,
   "metadata": {},
   "outputs": [
    {
     "data": {
      "text/plain": [
       "3.93"
      ]
     },
     "execution_count": 99,
     "metadata": {},
     "output_type": "execute_result"
    }
   ],
   "source": [
    "#desviación estandar numero trabajadores\n",
    "desviacion_nt = data[\"Num_Trabajadores\"].std().round(2)\n",
    "desviacion_nt"
   ]
  },
  {
   "cell_type": "code",
   "execution_count": 100,
   "metadata": {},
   "outputs": [
    {
     "data": {
      "text/plain": [
       "47.88"
      ]
     },
     "execution_count": 100,
     "metadata": {},
     "output_type": "execute_result"
    }
   ],
   "source": [
    "#cuartil 1 tiempo perforacion\n",
    "cuartil1_tp = data[\"Tiempo_Perforacion\"].quantile(0.25).round(2)\n",
    "cuartil1_tp"
   ]
  },
  {
   "cell_type": "code",
   "execution_count": 102,
   "metadata": {},
   "outputs": [
    {
     "data": {
      "text/plain": [
       "26.0"
      ]
     },
     "execution_count": 102,
     "metadata": {},
     "output_type": "execute_result"
    }
   ],
   "source": [
    "#cuartil 3 numero trabajadores\n",
    "cuartil3_nt = data[\"Num_Trabajadores\"].quantile(0.75)\n",
    "cuartil3_nt"
   ]
  },
  {
   "cell_type": "markdown",
   "metadata": {},
   "source": [
    "**Problema 1**\n",
    "\n",
    "Filtra los datos para incluir solo los registros del **'Turno_Noche'** y describe las estadísticas de **'Tiempo_Perforacion'** y **'Num_Trabajadores'** para este turno."
   ]
  },
  {
   "cell_type": "code",
   "execution_count": 81,
   "metadata": {},
   "outputs": [
    {
     "data": {
      "text/html": [
       "<div>\n",
       "<style scoped>\n",
       "    .dataframe tbody tr th:only-of-type {\n",
       "        vertical-align: middle;\n",
       "    }\n",
       "\n",
       "    .dataframe tbody tr th {\n",
       "        vertical-align: top;\n",
       "    }\n",
       "\n",
       "    .dataframe thead th {\n",
       "        text-align: right;\n",
       "    }\n",
       "</style>\n",
       "<table border=\"1\" class=\"dataframe\">\n",
       "  <thead>\n",
       "    <tr style=\"text-align: right;\">\n",
       "      <th></th>\n",
       "      <th>Profundidad_Perforacion</th>\n",
       "      <th>Tiempo_Perforacion</th>\n",
       "      <th>Costo_Operacion</th>\n",
       "      <th>Concentracion_Cobre</th>\n",
       "      <th>Num_Trabajadores</th>\n",
       "      <th>Tipo_Maquinaria</th>\n",
       "      <th>Grupo_Turno</th>\n",
       "    </tr>\n",
       "  </thead>\n",
       "  <tbody>\n",
       "    <tr>\n",
       "      <th>0</th>\n",
       "      <td>97.72</td>\n",
       "      <td>63.44</td>\n",
       "      <td>5298.69</td>\n",
       "      <td>34.23</td>\n",
       "      <td>22.0</td>\n",
       "      <td>Maquinaria_A</td>\n",
       "      <td>Turno_Noche</td>\n",
       "    </tr>\n",
       "    <tr>\n",
       "      <th>1</th>\n",
       "      <td>117.64</td>\n",
       "      <td>64.76</td>\n",
       "      <td>5697.33</td>\n",
       "      <td>33.90</td>\n",
       "      <td>25.0</td>\n",
       "      <td>Maquinaria_B</td>\n",
       "      <td>Turno_Noche</td>\n",
       "    </tr>\n",
       "    <tr>\n",
       "      <th>2</th>\n",
       "      <td>97.86</td>\n",
       "      <td>56.05</td>\n",
       "      <td>5225.78</td>\n",
       "      <td>27.79</td>\n",
       "      <td>24.0</td>\n",
       "      <td>Maquinaria_A</td>\n",
       "      <td>Turno_Noche</td>\n",
       "    </tr>\n",
       "    <tr>\n",
       "      <th>3</th>\n",
       "      <td>119.94</td>\n",
       "      <td>56.35</td>\n",
       "      <td>5198.99</td>\n",
       "      <td>33.67</td>\n",
       "      <td>28.0</td>\n",
       "      <td>Maquinaria_B</td>\n",
       "      <td>Turno_Noche</td>\n",
       "    </tr>\n",
       "    <tr>\n",
       "      <th>5</th>\n",
       "      <td>110.20</td>\n",
       "      <td>52.04</td>\n",
       "      <td>4800.02</td>\n",
       "      <td>34.47</td>\n",
       "      <td>21.0</td>\n",
       "      <td>Maquinaria_C</td>\n",
       "      <td>Turno_Noche</td>\n",
       "    </tr>\n",
       "    <tr>\n",
       "      <th>...</th>\n",
       "      <td>...</td>\n",
       "      <td>...</td>\n",
       "      <td>...</td>\n",
       "      <td>...</td>\n",
       "      <td>...</td>\n",
       "      <td>...</td>\n",
       "      <td>...</td>\n",
       "    </tr>\n",
       "    <tr>\n",
       "      <th>993</th>\n",
       "      <td>110.07</td>\n",
       "      <td>49.99</td>\n",
       "      <td>5156.25</td>\n",
       "      <td>31.79</td>\n",
       "      <td>18.0</td>\n",
       "      <td>Maquinaria_C</td>\n",
       "      <td>Turno_Noche</td>\n",
       "    </tr>\n",
       "    <tr>\n",
       "      <th>994</th>\n",
       "      <td>101.74</td>\n",
       "      <td>46.81</td>\n",
       "      <td>4852.90</td>\n",
       "      <td>37.20</td>\n",
       "      <td>18.0</td>\n",
       "      <td>Maquinaria_C</td>\n",
       "      <td>Turno_Noche</td>\n",
       "    </tr>\n",
       "    <tr>\n",
       "      <th>997</th>\n",
       "      <td>85.71</td>\n",
       "      <td>59.66</td>\n",
       "      <td>4569.57</td>\n",
       "      <td>29.96</td>\n",
       "      <td>20.0</td>\n",
       "      <td>Maquinaria_A</td>\n",
       "      <td>Turno_Noche</td>\n",
       "    </tr>\n",
       "    <tr>\n",
       "      <th>998</th>\n",
       "      <td>91.63</td>\n",
       "      <td>42.16</td>\n",
       "      <td>5113.77</td>\n",
       "      <td>30.29</td>\n",
       "      <td>25.0</td>\n",
       "      <td>Maquinaria_C</td>\n",
       "      <td>Turno_Noche</td>\n",
       "    </tr>\n",
       "    <tr>\n",
       "      <th>999</th>\n",
       "      <td>94.25</td>\n",
       "      <td>42.12</td>\n",
       "      <td>5137.53</td>\n",
       "      <td>33.90</td>\n",
       "      <td>18.0</td>\n",
       "      <td>Maquinaria_C</td>\n",
       "      <td>Turno_Noche</td>\n",
       "    </tr>\n",
       "  </tbody>\n",
       "</table>\n",
       "<p>519 rows × 7 columns</p>\n",
       "</div>"
      ],
      "text/plain": [
       "     Profundidad_Perforacion  Tiempo_Perforacion  Costo_Operacion  \\\n",
       "0                      97.72               63.44          5298.69   \n",
       "1                     117.64               64.76          5697.33   \n",
       "2                      97.86               56.05          5225.78   \n",
       "3                     119.94               56.35          5198.99   \n",
       "5                     110.20               52.04          4800.02   \n",
       "..                       ...                 ...              ...   \n",
       "993                   110.07               49.99          5156.25   \n",
       "994                   101.74               46.81          4852.90   \n",
       "997                    85.71               59.66          4569.57   \n",
       "998                    91.63               42.16          5113.77   \n",
       "999                    94.25               42.12          5137.53   \n",
       "\n",
       "     Concentracion_Cobre  Num_Trabajadores Tipo_Maquinaria  Grupo_Turno  \n",
       "0                  34.23              22.0    Maquinaria_A  Turno_Noche  \n",
       "1                  33.90              25.0    Maquinaria_B  Turno_Noche  \n",
       "2                  27.79              24.0    Maquinaria_A  Turno_Noche  \n",
       "3                  33.67              28.0    Maquinaria_B  Turno_Noche  \n",
       "5                  34.47              21.0    Maquinaria_C  Turno_Noche  \n",
       "..                   ...               ...             ...          ...  \n",
       "993                31.79              18.0    Maquinaria_C  Turno_Noche  \n",
       "994                37.20              18.0    Maquinaria_C  Turno_Noche  \n",
       "997                29.96              20.0    Maquinaria_A  Turno_Noche  \n",
       "998                30.29              25.0    Maquinaria_C  Turno_Noche  \n",
       "999                33.90              18.0    Maquinaria_C  Turno_Noche  \n",
       "\n",
       "[519 rows x 7 columns]"
      ]
     },
     "execution_count": 81,
     "metadata": {},
     "output_type": "execute_result"
    }
   ],
   "source": [
    "# Datos filtrados solo turno noche.\n",
    "lista_turno_noche = data[data[\"Grupo_Turno\"] == \"Turno_Noche\"]\n",
    "lista_turno_noche"
   ]
  },
  {
   "cell_type": "code",
   "execution_count": 82,
   "metadata": {},
   "outputs": [
    {
     "data": {
      "text/plain": [
       "count    519.0\n",
       "mean      52.7\n",
       "std        6.6\n",
       "min       35.6\n",
       "25%       48.1\n",
       "50%       53.3\n",
       "75%       57.2\n",
       "max       69.8\n",
       "Name: Tiempo_Perforacion, dtype: float64"
      ]
     },
     "execution_count": 82,
     "metadata": {},
     "output_type": "execute_result"
    }
   ],
   "source": [
    "#Descripción de estadisticas de Tiempo_Perforacion.\n",
    "lista_turno_noche[\"Tiempo_Perforacion\"].describe().round(1)"
   ]
  },
  {
   "cell_type": "code",
   "execution_count": 83,
   "metadata": {},
   "outputs": [
    {
     "data": {
      "text/plain": [
       "count    519.0\n",
       "mean      22.6\n",
       "std        4.1\n",
       "min       12.4\n",
       "25%       20.0\n",
       "50%       23.0\n",
       "75%       25.0\n",
       "max       32.4\n",
       "Name: Num_Trabajadores, dtype: float64"
      ]
     },
     "execution_count": 83,
     "metadata": {},
     "output_type": "execute_result"
    }
   ],
   "source": [
    "#Descrpcion de estadisticas de Num_Trabajadores.\n",
    "lista_turno_noche[\"Num_Trabajadores\"].describe().round(1)"
   ]
  },
  {
   "cell_type": "markdown",
   "metadata": {},
   "source": [
    "**Problema 2**\n",
    "\n",
    "Crea una variable categórica 'Profundidad_Categorizada' que clasifique la\n",
    "**'Profundidad_Perforacion'** en **'Baja'**, **'Media'** y **'Alta'** considerando que la clasificación media\n",
    "acumula el **40%** de los datos centrales. Después, describe la variable **'Tiempo_Perforacion'** para\n",
    "cada una de estas nuevas categorías."
   ]
  },
  {
   "cell_type": "code",
   "execution_count": 84,
   "metadata": {},
   "outputs": [
    {
     "data": {
      "text/html": [
       "<div>\n",
       "<style scoped>\n",
       "    .dataframe tbody tr th:only-of-type {\n",
       "        vertical-align: middle;\n",
       "    }\n",
       "\n",
       "    .dataframe tbody tr th {\n",
       "        vertical-align: top;\n",
       "    }\n",
       "\n",
       "    .dataframe thead th {\n",
       "        text-align: right;\n",
       "    }\n",
       "</style>\n",
       "<table border=\"1\" class=\"dataframe\">\n",
       "  <thead>\n",
       "    <tr style=\"text-align: right;\">\n",
       "      <th></th>\n",
       "      <th>Profundidad_Perforacion</th>\n",
       "      <th>Tiempo_Perforacion</th>\n",
       "      <th>Costo_Operacion</th>\n",
       "      <th>Concentracion_Cobre</th>\n",
       "      <th>Num_Trabajadores</th>\n",
       "      <th>Tipo_Maquinaria</th>\n",
       "      <th>Grupo_Turno</th>\n",
       "      <th>Profundidad_Categorizada</th>\n",
       "    </tr>\n",
       "  </thead>\n",
       "  <tbody>\n",
       "    <tr>\n",
       "      <th>0</th>\n",
       "      <td>97.72</td>\n",
       "      <td>63.44</td>\n",
       "      <td>5298.69</td>\n",
       "      <td>34.23</td>\n",
       "      <td>22.0</td>\n",
       "      <td>Maquinaria_A</td>\n",
       "      <td>Turno_Noche</td>\n",
       "      <td>Baja</td>\n",
       "    </tr>\n",
       "    <tr>\n",
       "      <th>1</th>\n",
       "      <td>117.64</td>\n",
       "      <td>64.76</td>\n",
       "      <td>5697.33</td>\n",
       "      <td>33.90</td>\n",
       "      <td>25.0</td>\n",
       "      <td>Maquinaria_B</td>\n",
       "      <td>Turno_Noche</td>\n",
       "      <td>Alta</td>\n",
       "    </tr>\n",
       "    <tr>\n",
       "      <th>2</th>\n",
       "      <td>97.86</td>\n",
       "      <td>56.05</td>\n",
       "      <td>5225.78</td>\n",
       "      <td>27.79</td>\n",
       "      <td>24.0</td>\n",
       "      <td>Maquinaria_A</td>\n",
       "      <td>Turno_Noche</td>\n",
       "      <td>Baja</td>\n",
       "    </tr>\n",
       "    <tr>\n",
       "      <th>3</th>\n",
       "      <td>119.94</td>\n",
       "      <td>56.35</td>\n",
       "      <td>5198.99</td>\n",
       "      <td>33.67</td>\n",
       "      <td>28.0</td>\n",
       "      <td>Maquinaria_B</td>\n",
       "      <td>Turno_Noche</td>\n",
       "      <td>Alta</td>\n",
       "    </tr>\n",
       "    <tr>\n",
       "      <th>4</th>\n",
       "      <td>119.49</td>\n",
       "      <td>63.92</td>\n",
       "      <td>5866.86</td>\n",
       "      <td>38.16</td>\n",
       "      <td>24.0</td>\n",
       "      <td>Maquinaria_B</td>\n",
       "      <td>Turno_Mañana</td>\n",
       "      <td>Alta</td>\n",
       "    </tr>\n",
       "  </tbody>\n",
       "</table>\n",
       "</div>"
      ],
      "text/plain": [
       "   Profundidad_Perforacion  Tiempo_Perforacion  Costo_Operacion  \\\n",
       "0                    97.72               63.44          5298.69   \n",
       "1                   117.64               64.76          5697.33   \n",
       "2                    97.86               56.05          5225.78   \n",
       "3                   119.94               56.35          5198.99   \n",
       "4                   119.49               63.92          5866.86   \n",
       "\n",
       "   Concentracion_Cobre  Num_Trabajadores Tipo_Maquinaria   Grupo_Turno  \\\n",
       "0                34.23              22.0    Maquinaria_A   Turno_Noche   \n",
       "1                33.90              25.0    Maquinaria_B   Turno_Noche   \n",
       "2                27.79              24.0    Maquinaria_A   Turno_Noche   \n",
       "3                33.67              28.0    Maquinaria_B   Turno_Noche   \n",
       "4                38.16              24.0    Maquinaria_B  Turno_Mañana   \n",
       "\n",
       "  Profundidad_Categorizada  \n",
       "0                     Baja  \n",
       "1                     Alta  \n",
       "2                     Baja  \n",
       "3                     Alta  \n",
       "4                     Alta  "
      ]
     },
     "execution_count": 84,
     "metadata": {},
     "output_type": "execute_result"
    }
   ],
   "source": [
    "#Creación de la variable 'Profundidad_Perforacion'.\n",
    "q30, q70 = data['Profundidad_Perforacion'].quantile([0.3, 0.7])\n",
    "\n",
    "def categorizarProfundidad(valor):\n",
    "    if valor < q30:\n",
    "        return \"Baja\"\n",
    "    elif valor > q70:\n",
    "        return \"Alta\"\n",
    "    else:\n",
    "        return \"Media\"\n",
    "\n",
    "data[\"Profundidad_Categorizada\"] = data[\"Profundidad_Perforacion\"].apply(categorizarProfundidad)\n",
    "data.head()"
   ]
  },
  {
   "cell_type": "code",
   "execution_count": 85,
   "metadata": {},
   "outputs": [
    {
     "data": {
      "text/html": [
       "<div>\n",
       "<style scoped>\n",
       "    .dataframe tbody tr th:only-of-type {\n",
       "        vertical-align: middle;\n",
       "    }\n",
       "\n",
       "    .dataframe tbody tr th {\n",
       "        vertical-align: top;\n",
       "    }\n",
       "\n",
       "    .dataframe thead th {\n",
       "        text-align: right;\n",
       "    }\n",
       "</style>\n",
       "<table border=\"1\" class=\"dataframe\">\n",
       "  <thead>\n",
       "    <tr style=\"text-align: right;\">\n",
       "      <th></th>\n",
       "      <th>count</th>\n",
       "      <th>mean</th>\n",
       "      <th>std</th>\n",
       "      <th>min</th>\n",
       "      <th>25%</th>\n",
       "      <th>50%</th>\n",
       "      <th>75%</th>\n",
       "      <th>max</th>\n",
       "    </tr>\n",
       "    <tr>\n",
       "      <th>Profundidad_Categorizada</th>\n",
       "      <th></th>\n",
       "      <th></th>\n",
       "      <th></th>\n",
       "      <th></th>\n",
       "      <th></th>\n",
       "      <th></th>\n",
       "      <th></th>\n",
       "      <th></th>\n",
       "    </tr>\n",
       "  </thead>\n",
       "  <tbody>\n",
       "    <tr>\n",
       "      <th>Alta</th>\n",
       "      <td>300.0</td>\n",
       "      <td>54.3</td>\n",
       "      <td>6.8</td>\n",
       "      <td>35.8</td>\n",
       "      <td>50.5</td>\n",
       "      <td>54.8</td>\n",
       "      <td>60.0</td>\n",
       "      <td>68.3</td>\n",
       "    </tr>\n",
       "    <tr>\n",
       "      <th>Baja</th>\n",
       "      <td>300.0</td>\n",
       "      <td>51.6</td>\n",
       "      <td>5.4</td>\n",
       "      <td>35.6</td>\n",
       "      <td>47.5</td>\n",
       "      <td>52.0</td>\n",
       "      <td>55.7</td>\n",
       "      <td>69.8</td>\n",
       "    </tr>\n",
       "    <tr>\n",
       "      <th>Media</th>\n",
       "      <td>400.0</td>\n",
       "      <td>52.0</td>\n",
       "      <td>6.7</td>\n",
       "      <td>35.0</td>\n",
       "      <td>47.0</td>\n",
       "      <td>52.4</td>\n",
       "      <td>56.3</td>\n",
       "      <td>71.0</td>\n",
       "    </tr>\n",
       "  </tbody>\n",
       "</table>\n",
       "</div>"
      ],
      "text/plain": [
       "                          count  mean  std   min   25%   50%   75%   max\n",
       "Profundidad_Categorizada                                                \n",
       "Alta                      300.0  54.3  6.8  35.8  50.5  54.8  60.0  68.3\n",
       "Baja                      300.0  51.6  5.4  35.6  47.5  52.0  55.7  69.8\n",
       "Media                     400.0  52.0  6.7  35.0  47.0  52.4  56.3  71.0"
      ]
     },
     "execution_count": 85,
     "metadata": {},
     "output_type": "execute_result"
    }
   ],
   "source": [
    "# Descripción de la variable Tiempo_Perforacion para cada una de las categorias de Profundidad_Categorizada.\n",
    "data.groupby(\"Profundidad_Categorizada\")[\"Tiempo_Perforacion\"].describe().round(1)\n"
   ]
  },
  {
   "cell_type": "code",
   "execution_count": 103,
   "metadata": {},
   "outputs": [
    {
     "data": {
      "text/plain": [
       "51.56"
      ]
     },
     "execution_count": 103,
     "metadata": {},
     "output_type": "execute_result"
    }
   ],
   "source": [
    "# Tiempo de perforación medio para profundidades bajas.\n",
    "data[data[\"Profundidad_Categorizada\"] == \"Baja\"][\"Tiempo_Perforacion\"].mean().round(2)"
   ]
  },
  {
   "cell_type": "code",
   "execution_count": 104,
   "metadata": {},
   "outputs": [
    {
     "data": {
      "text/plain": [
       "52.0"
      ]
     },
     "execution_count": 104,
     "metadata": {},
     "output_type": "execute_result"
    }
   ],
   "source": [
    "# Mediana de tiempo de perforación para profundidades bajas.\n",
    "data[data[\"Profundidad_Categorizada\"] == \"Baja\"][\"Tiempo_Perforacion\"].median().round(2)"
   ]
  },
  {
   "cell_type": "code",
   "execution_count": 105,
   "metadata": {},
   "outputs": [
    {
     "data": {
      "text/plain": [
       "52.03"
      ]
     },
     "execution_count": 105,
     "metadata": {},
     "output_type": "execute_result"
    }
   ],
   "source": [
    "# Tiempo de perforación medio para profundidades medias.\n",
    "data[data[\"Profundidad_Categorizada\"] == \"Media\"][\"Tiempo_Perforacion\"].mean().round(2)\n"
   ]
  },
  {
   "cell_type": "code",
   "execution_count": 106,
   "metadata": {},
   "outputs": [
    {
     "data": {
      "text/plain": [
       "52.4"
      ]
     },
     "execution_count": 106,
     "metadata": {},
     "output_type": "execute_result"
    }
   ],
   "source": [
    "# Mediana de tiempo de perforación para profundidades medias.\n",
    "data[data[\"Profundidad_Categorizada\"] == \"Media\"][\"Tiempo_Perforacion\"].median().round(2)"
   ]
  },
  {
   "cell_type": "code",
   "execution_count": 107,
   "metadata": {},
   "outputs": [
    {
     "data": {
      "text/plain": [
       "6.69"
      ]
     },
     "execution_count": 107,
     "metadata": {},
     "output_type": "execute_result"
    }
   ],
   "source": [
    "# Desviación estandar de tiempo de perforación para profundidades media.\n",
    "data[data[\"Profundidad_Categorizada\"] == \"Media\"][\"Tiempo_Perforacion\"].std().round(2)"
   ]
  },
  {
   "cell_type": "code",
   "execution_count": 108,
   "metadata": {},
   "outputs": [
    {
     "data": {
      "text/plain": [
       "68.33"
      ]
     },
     "execution_count": 108,
     "metadata": {},
     "output_type": "execute_result"
    }
   ],
   "source": [
    "# Máximo de tiempo de perforación para profundidades alta.\n",
    "data[data[\"Profundidad_Categorizada\"] == \"Alta\"][\"Tiempo_Perforacion\"].max().round(2)"
   ]
  },
  {
   "cell_type": "markdown",
   "metadata": {},
   "source": [
    "**Problema 3**\n",
    "\n",
    "Genera un diagrama de cajas para comparar la **'Profundidad_Perforacion'** en cada\n",
    "tipo de **'Tipo_Maquinaria'** (Maquinaria_A, Maquinaria_B, Maquinaria_C).\n",
    "\n",
    "<ul>\n",
    "  <li>¿Qué tipo de maquinaria tiende a ser utilizada para perforaciones más profundas?.</li>\n",
    "  <li>Identifique la máquina que cuenta con el mayor número de valores atípicos.</li>\n",
    "  <li>Genere un archivo con la gráfica diagrama de cajas.</li>\n",
    "</ul>"
   ]
  },
  {
   "cell_type": "code",
   "execution_count": 36,
   "metadata": {},
   "outputs": [
    {
     "data": {
      "image/png": "[encoded data removed]",
      "text/plain": [
       "<Figure size 600x300 with 1 Axes>"
      ]
     },
     "metadata": {},
     "output_type": "display_data"
    }
   ],
   "source": [
    "plt.figure(figsize=(6,3))\n",
    "sns.boxplot(data=data, y=\"Profundidad_Perforacion\", x=\"Tipo_Maquinaria\")\n",
    "plt.title(\"Diagrama Profundidad de Perforación vs Tipo de Maquinaria\")\n",
    "plt.ylabel(\"Profundidad Perforación\")\n",
    "plt.xlabel(\"Tipo Maquinaria\")\n",
    "plt.savefig(\"diagrama-profundidad-tipo-maquinaria.png\")\n",
    "plt.show()"
   ]
  },
  {
   "cell_type": "markdown",
   "metadata": {},
   "source": [
    "¿Qué tipo de maquinaria tiende a ser utilizada para perforaciones más profundas?."
   ]
  },
  {
   "cell_type": "code",
   "execution_count": 39,
   "metadata": {},
   "outputs": [
    {
     "name": "stdout",
     "output_type": "stream",
     "text": [
      "El tipo de maquinaria que tiende a ser utilizada para perforaciones más profundas es : Maquinaria_B\n"
     ]
    }
   ],
   "source": [
    "# Tipo de maquinaria para perforaciones más profundas.\n",
    "media_tm = data.groupby('Tipo_Maquinaria')['Profundidad_Perforacion'].mean()\n",
    "nameTipo = media_tm.idxmax()\n",
    "print(\"El tipo de maquinaria que tiende a ser utilizada para perforaciones más profundas es :\", nameTipo)"
   ]
  },
  {
   "cell_type": "markdown",
   "metadata": {},
   "source": [
    "Identifique la máquina que cuenta con el mayor número de valores atípicos."
   ]
  },
  {
   "cell_type": "code",
   "execution_count": 44,
   "metadata": {},
   "outputs": [
    {
     "data": {
      "text/plain": [
       "(68.68750000000003, 140.48749999999998)"
      ]
     },
     "execution_count": 44,
     "metadata": {},
     "output_type": "execute_result"
    }
   ],
   "source": [
    "q1 = data[\"Profundidad_Perforacion\"].quantile(0.25)\n",
    "q3 = data[\"Profundidad_Perforacion\"].quantile(0.75)\n",
    "\n",
    "Lim_inf = q1-1.5*(q3-q1)\n",
    "Lim_sup = q3+1.5*(q3-q1)\n",
    "\n",
    "Lim_inf, Lim_sup\n"
   ]
  },
  {
   "cell_type": "code",
   "execution_count": 53,
   "metadata": {},
   "outputs": [
    {
     "data": {
      "text/html": [
       "<div>\n",
       "<style scoped>\n",
       "    .dataframe tbody tr th:only-of-type {\n",
       "        vertical-align: middle;\n",
       "    }\n",
       "\n",
       "    .dataframe tbody tr th {\n",
       "        vertical-align: top;\n",
       "    }\n",
       "\n",
       "    .dataframe thead th {\n",
       "        text-align: right;\n",
       "    }\n",
       "</style>\n",
       "<table border=\"1\" class=\"dataframe\">\n",
       "  <thead>\n",
       "    <tr style=\"text-align: right;\">\n",
       "      <th></th>\n",
       "      <th>Profundidad_Perforacion</th>\n",
       "      <th>Tiempo_Perforacion</th>\n",
       "      <th>Costo_Operacion</th>\n",
       "      <th>Concentracion_Cobre</th>\n",
       "      <th>Num_Trabajadores</th>\n",
       "      <th>Tipo_Maquinaria</th>\n",
       "      <th>Grupo_Turno</th>\n",
       "      <th>Profundidad_Categorizada</th>\n",
       "    </tr>\n",
       "  </thead>\n",
       "  <tbody>\n",
       "    <tr>\n",
       "      <th>986</th>\n",
       "      <td>141.48</td>\n",
       "      <td>48.78</td>\n",
       "      <td>4829.53</td>\n",
       "      <td>31.99</td>\n",
       "      <td>22.0</td>\n",
       "      <td>Maquinaria_A</td>\n",
       "      <td>Turno_Mañana</td>\n",
       "      <td>Alta</td>\n",
       "    </tr>\n",
       "  </tbody>\n",
       "</table>\n",
       "</div>"
      ],
      "text/plain": [
       "     Profundidad_Perforacion  Tiempo_Perforacion  Costo_Operacion  \\\n",
       "986                   141.48               48.78          4829.53   \n",
       "\n",
       "     Concentracion_Cobre  Num_Trabajadores Tipo_Maquinaria   Grupo_Turno  \\\n",
       "986                31.99              22.0    Maquinaria_A  Turno_Mañana   \n",
       "\n",
       "    Profundidad_Categorizada  \n",
       "986                     Alta  "
      ]
     },
     "execution_count": 53,
     "metadata": {},
     "output_type": "execute_result"
    }
   ],
   "source": [
    "atipicos = data[(data[\"Profundidad_Perforacion\"] < Lim_inf) | (data[\"Profundidad_Perforacion\"] > Lim_sup)]\n",
    "atipicos"
   ]
  },
  {
   "cell_type": "code",
   "execution_count": 59,
   "metadata": {},
   "outputs": [
    {
     "data": {
      "text/html": [
       "<div>\n",
       "<style scoped>\n",
       "    .dataframe tbody tr th:only-of-type {\n",
       "        vertical-align: middle;\n",
       "    }\n",
       "\n",
       "    .dataframe tbody tr th {\n",
       "        vertical-align: top;\n",
       "    }\n",
       "\n",
       "    .dataframe thead th {\n",
       "        text-align: right;\n",
       "    }\n",
       "</style>\n",
       "<table border=\"1\" class=\"dataframe\">\n",
       "  <thead>\n",
       "    <tr style=\"text-align: right;\">\n",
       "      <th></th>\n",
       "      <th>Profundidad_Perforacion</th>\n",
       "      <th>Tiempo_Perforacion</th>\n",
       "      <th>Costo_Operacion</th>\n",
       "      <th>Concentracion_Cobre</th>\n",
       "      <th>Num_Trabajadores</th>\n",
       "      <th>Tipo_Maquinaria</th>\n",
       "      <th>Grupo_Turno</th>\n",
       "      <th>Profundidad_Categorizada</th>\n",
       "    </tr>\n",
       "  </thead>\n",
       "  <tbody>\n",
       "    <tr>\n",
       "      <th>0</th>\n",
       "      <td>126.17</td>\n",
       "      <td>55.57</td>\n",
       "      <td>5422.91</td>\n",
       "      <td>43.12</td>\n",
       "      <td>18.0</td>\n",
       "      <td>Maquinaria_A</td>\n",
       "      <td>Turno_Noche</td>\n",
       "      <td>Alta</td>\n",
       "    </tr>\n",
       "    <tr>\n",
       "      <th>1</th>\n",
       "      <td>124.94</td>\n",
       "      <td>55.02</td>\n",
       "      <td>5008.77</td>\n",
       "      <td>30.19</td>\n",
       "      <td>19.5</td>\n",
       "      <td>Maquinaria_A</td>\n",
       "      <td>Turno_Noche</td>\n",
       "      <td>Alta</td>\n",
       "    </tr>\n",
       "    <tr>\n",
       "      <th>2</th>\n",
       "      <td>141.48</td>\n",
       "      <td>48.78</td>\n",
       "      <td>4829.53</td>\n",
       "      <td>31.99</td>\n",
       "      <td>22.0</td>\n",
       "      <td>Maquinaria_A</td>\n",
       "      <td>Turno_Mañana</td>\n",
       "      <td>Alta</td>\n",
       "    </tr>\n",
       "    <tr>\n",
       "      <th>3</th>\n",
       "      <td>83.94</td>\n",
       "      <td>50.03</td>\n",
       "      <td>5829.92</td>\n",
       "      <td>36.47</td>\n",
       "      <td>26.0</td>\n",
       "      <td>Maquinaria_B</td>\n",
       "      <td>Turno_Mañana</td>\n",
       "      <td>Baja</td>\n",
       "    </tr>\n",
       "    <tr>\n",
       "      <th>4</th>\n",
       "      <td>71.86</td>\n",
       "      <td>54.37</td>\n",
       "      <td>5639.40</td>\n",
       "      <td>33.68</td>\n",
       "      <td>21.0</td>\n",
       "      <td>Maquinaria_B</td>\n",
       "      <td>Turno_Noche</td>\n",
       "      <td>Baja</td>\n",
       "    </tr>\n",
       "    <tr>\n",
       "      <th>5</th>\n",
       "      <td>71.12</td>\n",
       "      <td>40.53</td>\n",
       "      <td>4955.27</td>\n",
       "      <td>33.56</td>\n",
       "      <td>24.0</td>\n",
       "      <td>Maquinaria_C</td>\n",
       "      <td>Turno_Mañana</td>\n",
       "      <td>Baja</td>\n",
       "    </tr>\n",
       "    <tr>\n",
       "      <th>6</th>\n",
       "      <td>136.63</td>\n",
       "      <td>45.90</td>\n",
       "      <td>4651.69</td>\n",
       "      <td>29.10</td>\n",
       "      <td>26.0</td>\n",
       "      <td>Maquinaria_C</td>\n",
       "      <td>Turno_Mañana</td>\n",
       "      <td>Alta</td>\n",
       "    </tr>\n",
       "  </tbody>\n",
       "</table>\n",
       "</div>"
      ],
      "text/plain": [
       "   Profundidad_Perforacion  Tiempo_Perforacion  Costo_Operacion  \\\n",
       "0                   126.17               55.57          5422.91   \n",
       "1                   124.94               55.02          5008.77   \n",
       "2                   141.48               48.78          4829.53   \n",
       "3                    83.94               50.03          5829.92   \n",
       "4                    71.86               54.37          5639.40   \n",
       "5                    71.12               40.53          4955.27   \n",
       "6                   136.63               45.90          4651.69   \n",
       "\n",
       "   Concentracion_Cobre  Num_Trabajadores Tipo_Maquinaria   Grupo_Turno  \\\n",
       "0                43.12              18.0    Maquinaria_A   Turno_Noche   \n",
       "1                30.19              19.5    Maquinaria_A   Turno_Noche   \n",
       "2                31.99              22.0    Maquinaria_A  Turno_Mañana   \n",
       "3                36.47              26.0    Maquinaria_B  Turno_Mañana   \n",
       "4                33.68              21.0    Maquinaria_B   Turno_Noche   \n",
       "5                33.56              24.0    Maquinaria_C  Turno_Mañana   \n",
       "6                29.10              26.0    Maquinaria_C  Turno_Mañana   \n",
       "\n",
       "  Profundidad_Categorizada  \n",
       "0                     Alta  \n",
       "1                     Alta  \n",
       "2                     Alta  \n",
       "3                     Baja  \n",
       "4                     Baja  \n",
       "5                     Baja  \n",
       "6                     Alta  "
      ]
     },
     "execution_count": 59,
     "metadata": {},
     "output_type": "execute_result"
    }
   ],
   "source": [
    "def identificar_atipicos(data):\n",
    "    nameProfundidad = \"Profundidad_Perforacion\"\n",
    "    nameTipo = \"Tipo_Maquinaria\"\n",
    "    atipicos = []\n",
    "    for tipo in data[nameTipo].unique():\n",
    "        data_filtrada = data[data[nameTipo] == tipo]\n",
    "        q1 = data_filtrada[nameProfundidad].quantile(0.25)\n",
    "        q3 = data_filtrada[nameProfundidad].quantile(0.75)\n",
    "        iqr = 1.5 * (q3 - q1)\n",
    "        lim_inf = q1 - iqr\n",
    "        lim_sup = q3 + iqr\n",
    "\n",
    "        atipicos_valores = data_filtrada[(data_filtrada[nameProfundidad] < lim_inf) | (data_filtrada[nameProfundidad] > lim_sup)]\n",
    "        atipicos.append(atipicos_valores)\n",
    "    return pd.concat(atipicos, ignore_index = True)\n",
    "\n",
    "identificar_atipicos(data)"
   ]
  }
 ],
 "metadata": {
  "kernelspec": {
   "display_name": "Python 3",
   "language": "python",
   "name": "python3"
  },
  "language_info": {
   "codemirror_mode": {
    "name": "ipython",
    "version": 3
   },
   "file_extension": ".py",
   "mimetype": "text/x-python",
   "name": "python",
   "nbconvert_exporter": "python",
   "pygments_lexer": "ipython3",
   "version": "3.11.6"
  }
 },
 "nbformat": 4,
 "nbformat_minor": 2
}
