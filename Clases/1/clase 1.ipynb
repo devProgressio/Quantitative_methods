{
 "cells": [
  {
   "cell_type": "markdown",
   "id": "512e2225",
   "metadata": {},
   "source": [
    "# Introducción\n",
    "\n",
    "## Markdown\n",
    "+ Una celda \"markdown\" corresponde a una celda de texto, en este espacio usted puede escribir notas o ecuaciones en entorno \".tex\" utilizando el símbolo $.\n",
    "+ Es importante que en cada sección utilice títulos adecuados para cuando se imprima el documento quede ordenado y separado por secciones.\n",
    "\n",
    "**negrito** *cursiva*\n",
    "\n",
    "## Libreria Numpy\n",
    "\n",
    "Esta libreria permite realizar algunas operaciones matemáticas de aritmética básica y álgebra. En el contexto de las aplicaciones de estadística y matemática se destaca:\n",
    "\n",
    "    - Operaciones con números racionales.\n",
    "    - Creación de matrices y vectores.\n",
    "    - Partición de un intervalo cerrado o lista de números aleatorios."
   ]
  },
  {
   "cell_type": "code",
   "execution_count": null,
   "id": "3da55eac",
   "metadata": {},
   "outputs": [],
   "source": []
  },
  {
   "cell_type": "code",
   "execution_count": 1,
   "id": "ea3395c4",
   "metadata": {},
   "outputs": [
    {
     "data": {
      "text/plain": [
       "3.141592653589793"
      ]
     },
     "execution_count": 1,
     "metadata": {},
     "output_type": "execute_result"
    }
   ],
   "source": [
    "import numpy\n",
    "numpy.e\n",
    "numpy.pi"
   ]
  },
  {
   "cell_type": "code",
   "execution_count": 2,
   "id": "5f223907",
   "metadata": {},
   "outputs": [],
   "source": [
    "import numpy as np"
   ]
  },
  {
   "cell_type": "code",
   "execution_count": 3,
   "id": "8cbe526b",
   "metadata": {},
   "outputs": [
    {
     "data": {
      "text/plain": [
       "2.718281828459045"
      ]
     },
     "execution_count": 3,
     "metadata": {},
     "output_type": "execute_result"
    }
   ],
   "source": [
    "np.e"
   ]
  },
  {
   "cell_type": "code",
   "execution_count": 4,
   "id": "964c93a2",
   "metadata": {},
   "outputs": [
    {
     "data": {
      "text/plain": [
       "3.141592653589793"
      ]
     },
     "execution_count": 4,
     "metadata": {},
     "output_type": "execute_result"
    }
   ],
   "source": [
    "np.pi"
   ]
  },
  {
   "cell_type": "code",
   "execution_count": 5,
   "id": "5aa80977",
   "metadata": {},
   "outputs": [
    {
     "data": {
      "text/plain": [
       "2.23606797749979"
      ]
     },
     "execution_count": 5,
     "metadata": {},
     "output_type": "execute_result"
    }
   ],
   "source": [
    "np.sqrt(5)\n"
   ]
  },
  {
   "cell_type": "code",
   "execution_count": 6,
   "id": "5e346986",
   "metadata": {},
   "outputs": [
    {
     "data": {
      "text/plain": [
       "2.718281828459045"
      ]
     },
     "execution_count": 6,
     "metadata": {},
     "output_type": "execute_result"
    }
   ],
   "source": [
    "e=np.e\n",
    "e"
   ]
  },
  {
   "cell_type": "code",
   "execution_count": 7,
   "id": "e4d8738b",
   "metadata": {},
   "outputs": [
    {
     "data": {
      "text/plain": [
       "1.0"
      ]
     },
     "execution_count": 7,
     "metadata": {},
     "output_type": "execute_result"
    }
   ],
   "source": [
    "np.log(e)"
   ]
  },
  {
   "cell_type": "code",
   "execution_count": 8,
   "id": "743a8bf7",
   "metadata": {},
   "outputs": [
    {
     "data": {
      "text/plain": [
       "[1, 2, 3, 4, 5, 6, 7, 8, 9]"
      ]
     },
     "execution_count": 8,
     "metadata": {},
     "output_type": "execute_result"
    }
   ],
   "source": [
    "x=[1,2,3,4,5,6,7,8,9]    # lista  de  números \n",
    "x"
   ]
  },
  {
   "cell_type": "code",
   "execution_count": 9,
   "id": "59dd4270",
   "metadata": {},
   "outputs": [
    {
     "data": {
      "text/plain": [
       "array([ 1.        ,  1.09090909,  1.18181818,  1.27272727,  1.36363636,\n",
       "        1.45454545,  1.54545455,  1.63636364,  1.72727273,  1.81818182,\n",
       "        1.90909091,  2.        ,  2.09090909,  2.18181818,  2.27272727,\n",
       "        2.36363636,  2.45454545,  2.54545455,  2.63636364,  2.72727273,\n",
       "        2.81818182,  2.90909091,  3.        ,  3.09090909,  3.18181818,\n",
       "        3.27272727,  3.36363636,  3.45454545,  3.54545455,  3.63636364,\n",
       "        3.72727273,  3.81818182,  3.90909091,  4.        ,  4.09090909,\n",
       "        4.18181818,  4.27272727,  4.36363636,  4.45454545,  4.54545455,\n",
       "        4.63636364,  4.72727273,  4.81818182,  4.90909091,  5.        ,\n",
       "        5.09090909,  5.18181818,  5.27272727,  5.36363636,  5.45454545,\n",
       "        5.54545455,  5.63636364,  5.72727273,  5.81818182,  5.90909091,\n",
       "        6.        ,  6.09090909,  6.18181818,  6.27272727,  6.36363636,\n",
       "        6.45454545,  6.54545455,  6.63636364,  6.72727273,  6.81818182,\n",
       "        6.90909091,  7.        ,  7.09090909,  7.18181818,  7.27272727,\n",
       "        7.36363636,  7.45454545,  7.54545455,  7.63636364,  7.72727273,\n",
       "        7.81818182,  7.90909091,  8.        ,  8.09090909,  8.18181818,\n",
       "        8.27272727,  8.36363636,  8.45454545,  8.54545455,  8.63636364,\n",
       "        8.72727273,  8.81818182,  8.90909091,  9.        ,  9.09090909,\n",
       "        9.18181818,  9.27272727,  9.36363636,  9.45454545,  9.54545455,\n",
       "        9.63636364,  9.72727273,  9.81818182,  9.90909091, 10.        ])"
      ]
     },
     "execution_count": 9,
     "metadata": {},
     "output_type": "execute_result"
    }
   ],
   "source": [
    "x=np.linspace(1,10,100)\n",
    "x"
   ]
  },
  {
   "cell_type": "markdown",
   "id": "f0186742",
   "metadata": {},
   "source": [
    "## Libreria Matplotlib\n",
    "La libreria matplotlib es la columna vertebral de las gráficas en python. Con esta libreria podremos visualizar curvas en el espacio R2 o R3, y desde el contexto estadístico nos permite realizar:\n",
    "- Gráficos de cajas.\n",
    "- Gráficos de torta.\n",
    "- Histogramas.\n",
    "- Nubes de puntos o scatterplot.\n",
    "- Mapas de correlaciones. \n",
    "- Gráficos de violin.\n",
    "Véamos la construcción de un gráfico paso a paso:"
   ]
  },
  {
   "cell_type": "code",
   "execution_count": 10,
   "id": "d902d3ac",
   "metadata": {},
   "outputs": [],
   "source": [
    "import matplotlib.pyplot as plt"
   ]
  },
  {
   "cell_type": "code",
   "execution_count": 11,
   "id": "1e1c9c98",
   "metadata": {},
   "outputs": [
    {
     "data": {
      "image/png": "[encoded data removed]",
      "text/plain": [
       "<Figure size 640x480 with 1 Axes>"
      ]
     },
     "metadata": {},
     "output_type": "display_data"
    }
   ],
   "source": [
    "# definiendo las variables x e y o dominio y recorrido. \n",
    "x=[1,2,3,4,5,6,7,8,9] # variable x\n",
    "y=[2,1,8,2,15,1,0,6,12] # variable y\n",
    "plt.plot(x,y) #x: variable de entrada, y: variable de salida.\n",
    "plt.show()\n",
    "#obs: El código que aparece antes del gráfico se puede eliminar agregando la extensión plt.show()"
   ]
  },
  {
   "cell_type": "markdown",
   "id": "1cf10341",
   "metadata": {},
   "source": [
    "### Buscando una función cuadrática\n",
    "Utilizando el entorno array, logramos crear una lista de números con un orden específico. De esta forma podemos relacionar dicha lista con una nueva variable y crear una relación de dependencia con el objetivo de gráficar."
   ]
  },
  {
   "cell_type": "code",
   "execution_count": 12,
   "id": "ea5f00c8",
   "metadata": {},
   "outputs": [
    {
     "data": {
      "image/png": "[encoded data removed]",
      "text/plain": [
       "<Figure size 300x300 with 1 Axes>"
      ]
     },
     "metadata": {},
     "output_type": "display_data"
    }
   ],
   "source": [
    "x=np.array([-3,-2,-1,0,1,2,3])\n",
    "plt.figure(figsize=(3,3))\n",
    "plt.plot(x,x**2)\n",
    "plt.show()"
   ]
  },
  {
   "cell_type": "markdown",
   "id": "fa35177d",
   "metadata": {},
   "source": [
    "En estos casos, es mejor utilizar la función \"linspace\" dado que de forma automática se crea un arreglo de números los cuales se pueden utilizar para crear una relación más fina.\n"
   ]
  },
  {
   "cell_type": "code",
   "execution_count": 13,
   "id": "928968bc",
   "metadata": {},
   "outputs": [
    {
     "data": {
      "image/png": "[encoded data removed]",
      "text/plain": [
       "<Figure size 500x500 with 1 Axes>"
      ]
     },
     "metadata": {},
     "output_type": "display_data"
    }
   ],
   "source": [
    "X=np.linspace(-3,3,50)\n",
    "plt.figure(figsize=(5,5))\n",
    "plt.plot(X,X**3)\n",
    "plt.plot(X,X**2)\n",
    "plt.plot(X,np.sin(X))\n",
    "plt.show()"
   ]
  },
  {
   "cell_type": "code",
   "execution_count": 14,
   "id": "fc474984",
   "metadata": {},
   "outputs": [
    {
     "data": {
      "image/png": "[encoded data removed]",
      "text/plain": [
       "<Figure size 300x300 with 1 Axes>"
      ]
     },
     "metadata": {},
     "output_type": "display_data"
    }
   ],
   "source": [
    "plt.figure(figsize=(3,3))\n",
    "plt.plot(X,X**3,color=\"red\",label=\"$y=x^3$\")\n",
    "plt.plot(X,3*X**2,color=\"green\",label=\"$y=3x^2$\")\n",
    "plt.legend()\n",
    "plt.show()"
   ]
  },
  {
   "cell_type": "code",
   "execution_count": 15,
   "id": "435e83dc",
   "metadata": {},
   "outputs": [
    {
     "data": {
      "image/png": "[encoded data removed]",
      "text/plain": [
       "<Figure size 300x300 with 1 Axes>"
      ]
     },
     "metadata": {},
     "output_type": "display_data"
    }
   ],
   "source": [
    "plt.figure(figsize=(3,3))\n",
    "plt.plot(X,X**3,color=\"blue\",label=\"$y=x^3$\")\n",
    "plt.plot(X,3*X**2,color=\"pink\",label=\"$y=3x^2$\")\n",
    "plt.xlabel(\"Eje $X$\")\n",
    "plt.ylabel(\"Eje $Y$\")\n",
    "plt.title(\"Mi primer gráfico Priscila Merino\")\n",
    "plt.legend()\n",
    "plt.show()"
   ]
  },
  {
   "cell_type": "markdown",
   "id": "a68fa027",
   "metadata": {},
   "source": [
    "## Librería Pandas\n",
    "Pandas es la libreria que permite analizar y procesar datos. Utilizando esta libreria se pueden realizar las siguientes acciones:\n",
    "* Procesar bases de datos.\n",
    "* Filtrar datos.\n",
    "* Realizar informes descriptivos.\n",
    "* Agrupar datos y crear nuevas variables.\n",
    "* entre otros."
   ]
  },
  {
   "cell_type": "code",
   "execution_count": 16,
   "id": "aafc18bb",
   "metadata": {},
   "outputs": [],
   "source": [
    "import pandas as pd"
   ]
  },
  {
   "cell_type": "markdown",
   "id": "01bf5a7b",
   "metadata": {},
   "source": [
    "Para  Colab y Jupyter  notebook  , es distinto la  carga de  datos \n",
    "En  Colab se  carga cada vez en el icono a la izquiersa  carpeta\n",
    "En  Jupyter  debo tener el archivo en  la misma carpeta donde  está el notebook"
   ]
  },
  {
   "cell_type": "markdown",
   "id": "6ab23793",
   "metadata": {},
   "source": [
    "data=pd.read_csv(\"ejemplo1.csv\", sep=\";\", decimal=\",\")\n",
    "imprimir cabecera de los datos --> las cinco primeras filas\n",
    "+ data.head() # para  ver  la cabecera de  los datos\n",
    "+ data.info() #  para  saber  que tipo de  datos  tiene\n",
    "+ data.tail() # para  ver  los  últimos elementos \n",
    "+ data.head(10) mostrar  los  10 primeros elementos \n",
    "+ data.describe()  #resumen estadisico"
   ]
  },
  {
   "cell_type": "code",
   "execution_count": 17,
   "id": "a03edcc3",
   "metadata": {},
   "outputs": [],
   "source": [
    "data=pd.read_csv(\"ejemplo1.csv\",encoding='latin-1',sep=\";\",decimal=\",\")"
   ]
  },
  {
   "cell_type": "code",
   "execution_count": 18,
   "id": "ac6c0525",
   "metadata": {},
   "outputs": [
    {
     "data": {
      "text/html": [
       "<div>\n",
       "<style scoped>\n",
       "    .dataframe tbody tr th:only-of-type {\n",
       "        vertical-align: middle;\n",
       "    }\n",
       "\n",
       "    .dataframe tbody tr th {\n",
       "        vertical-align: top;\n",
       "    }\n",
       "\n",
       "    .dataframe thead th {\n",
       "        text-align: right;\n",
       "    }\n",
       "</style>\n",
       "<table border=\"1\" class=\"dataframe\">\n",
       "  <thead>\n",
       "    <tr style=\"text-align: right;\">\n",
       "      <th></th>\n",
       "      <th>Mortalidad_Infantil</th>\n",
       "      <th>Tasa_Alfabetismo_Femenino</th>\n",
       "      <th>PIB_per_cápita</th>\n",
       "      <th>Tasa_fecundidad</th>\n",
       "    </tr>\n",
       "  </thead>\n",
       "  <tbody>\n",
       "    <tr>\n",
       "      <th>0</th>\n",
       "      <td>128</td>\n",
       "      <td>37</td>\n",
       "      <td>1870</td>\n",
       "      <td>6.66</td>\n",
       "    </tr>\n",
       "    <tr>\n",
       "      <th>1</th>\n",
       "      <td>204</td>\n",
       "      <td>22</td>\n",
       "      <td>130</td>\n",
       "      <td>6.15</td>\n",
       "    </tr>\n",
       "    <tr>\n",
       "      <th>2</th>\n",
       "      <td>202</td>\n",
       "      <td>16</td>\n",
       "      <td>310</td>\n",
       "      <td>7.00</td>\n",
       "    </tr>\n",
       "    <tr>\n",
       "      <th>3</th>\n",
       "      <td>197</td>\n",
       "      <td>65</td>\n",
       "      <td>570</td>\n",
       "      <td>7.25</td>\n",
       "    </tr>\n",
       "    <tr>\n",
       "      <th>4</th>\n",
       "      <td>96</td>\n",
       "      <td>76</td>\n",
       "      <td>2050</td>\n",
       "      <td>3.81</td>\n",
       "    </tr>\n",
       "  </tbody>\n",
       "</table>\n",
       "</div>"
      ],
      "text/plain": [
       "   Mortalidad_Infantil  Tasa_Alfabetismo_Femenino  PIB_per_cápita  \\\n",
       "0                  128                         37            1870   \n",
       "1                  204                         22             130   \n",
       "2                  202                         16             310   \n",
       "3                  197                         65             570   \n",
       "4                   96                         76            2050   \n",
       "\n",
       "   Tasa_fecundidad  \n",
       "0             6.66  \n",
       "1             6.15  \n",
       "2             7.00  \n",
       "3             7.25  \n",
       "4             3.81  "
      ]
     },
     "execution_count": 18,
     "metadata": {},
     "output_type": "execute_result"
    }
   ],
   "source": [
    "data.head()"
   ]
  },
  {
   "cell_type": "code",
   "execution_count": 19,
   "id": "eee8b19f",
   "metadata": {},
   "outputs": [
    {
     "name": "stdout",
     "output_type": "stream",
     "text": [
      "<class 'pandas.core.frame.DataFrame'>\n",
      "RangeIndex: 64 entries, 0 to 63\n",
      "Data columns (total 4 columns):\n",
      " #   Column                     Non-Null Count  Dtype  \n",
      "---  ------                     --------------  -----  \n",
      " 0   Mortalidad_Infantil        64 non-null     int64  \n",
      " 1   Tasa_Alfabetismo_Femenino  64 non-null     int64  \n",
      " 2   PIB_per_cápita             64 non-null     int64  \n",
      " 3   Tasa_fecundidad            64 non-null     float64\n",
      "dtypes: float64(1), int64(3)\n",
      "memory usage: 2.1 KB\n"
     ]
    }
   ],
   "source": [
    "data.info()"
   ]
  },
  {
   "cell_type": "code",
   "execution_count": 22,
   "id": "9bdd47df",
   "metadata": {},
   "outputs": [
    {
     "data": {
      "text/html": [
       "<div>\n",
       "<style scoped>\n",
       "    .dataframe tbody tr th:only-of-type {\n",
       "        vertical-align: middle;\n",
       "    }\n",
       "\n",
       "    .dataframe tbody tr th {\n",
       "        vertical-align: top;\n",
       "    }\n",
       "\n",
       "    .dataframe thead th {\n",
       "        text-align: right;\n",
       "    }\n",
       "</style>\n",
       "<table border=\"1\" class=\"dataframe\">\n",
       "  <thead>\n",
       "    <tr style=\"text-align: right;\">\n",
       "      <th></th>\n",
       "      <th>Mortalidad_Infantil</th>\n",
       "      <th>Tasa_Alfabetismo_Femenino</th>\n",
       "      <th>PIB_per_cápita</th>\n",
       "      <th>Tasa_fecundidad</th>\n",
       "    </tr>\n",
       "  </thead>\n",
       "  <tbody>\n",
       "    <tr>\n",
       "      <th>59</th>\n",
       "      <td>115</td>\n",
       "      <td>62</td>\n",
       "      <td>1470</td>\n",
       "      <td>3.89</td>\n",
       "    </tr>\n",
       "    <tr>\n",
       "      <th>60</th>\n",
       "      <td>186</td>\n",
       "      <td>45</td>\n",
       "      <td>300</td>\n",
       "      <td>6.90</td>\n",
       "    </tr>\n",
       "    <tr>\n",
       "      <th>61</th>\n",
       "      <td>47</td>\n",
       "      <td>85</td>\n",
       "      <td>3630</td>\n",
       "      <td>4.10</td>\n",
       "    </tr>\n",
       "    <tr>\n",
       "      <th>62</th>\n",
       "      <td>178</td>\n",
       "      <td>45</td>\n",
       "      <td>220</td>\n",
       "      <td>6.09</td>\n",
       "    </tr>\n",
       "    <tr>\n",
       "      <th>63</th>\n",
       "      <td>142</td>\n",
       "      <td>67</td>\n",
       "      <td>560</td>\n",
       "      <td>7.20</td>\n",
       "    </tr>\n",
       "  </tbody>\n",
       "</table>\n",
       "</div>"
      ],
      "text/plain": [
       "    Mortalidad_Infantil  Tasa_Alfabetismo_Femenino  PIB_per_cápita  \\\n",
       "59                  115                         62            1470   \n",
       "60                  186                         45             300   \n",
       "61                   47                         85            3630   \n",
       "62                  178                         45             220   \n",
       "63                  142                         67             560   \n",
       "\n",
       "    Tasa_fecundidad  \n",
       "59             3.89  \n",
       "60             6.90  \n",
       "61             4.10  \n",
       "62             6.09  \n",
       "63             7.20  "
      ]
     },
     "execution_count": 22,
     "metadata": {},
     "output_type": "execute_result"
    }
   ],
   "source": [
    "data.tail()"
   ]
  },
  {
   "cell_type": "code",
   "execution_count": 23,
   "id": "2e756d64",
   "metadata": {},
   "outputs": [
    {
     "data": {
      "text/html": [
       "<div>\n",
       "<style scoped>\n",
       "    .dataframe tbody tr th:only-of-type {\n",
       "        vertical-align: middle;\n",
       "    }\n",
       "\n",
       "    .dataframe tbody tr th {\n",
       "        vertical-align: top;\n",
       "    }\n",
       "\n",
       "    .dataframe thead th {\n",
       "        text-align: right;\n",
       "    }\n",
       "</style>\n",
       "<table border=\"1\" class=\"dataframe\">\n",
       "  <thead>\n",
       "    <tr style=\"text-align: right;\">\n",
       "      <th></th>\n",
       "      <th>Mortalidad_Infantil</th>\n",
       "      <th>Tasa_Alfabetismo_Femenino</th>\n",
       "      <th>PIB_per_cápita</th>\n",
       "      <th>Tasa_fecundidad</th>\n",
       "    </tr>\n",
       "  </thead>\n",
       "  <tbody>\n",
       "    <tr>\n",
       "      <th>0</th>\n",
       "      <td>128</td>\n",
       "      <td>37</td>\n",
       "      <td>1870</td>\n",
       "      <td>6.66</td>\n",
       "    </tr>\n",
       "    <tr>\n",
       "      <th>1</th>\n",
       "      <td>204</td>\n",
       "      <td>22</td>\n",
       "      <td>130</td>\n",
       "      <td>6.15</td>\n",
       "    </tr>\n",
       "    <tr>\n",
       "      <th>2</th>\n",
       "      <td>202</td>\n",
       "      <td>16</td>\n",
       "      <td>310</td>\n",
       "      <td>7.00</td>\n",
       "    </tr>\n",
       "    <tr>\n",
       "      <th>3</th>\n",
       "      <td>197</td>\n",
       "      <td>65</td>\n",
       "      <td>570</td>\n",
       "      <td>7.25</td>\n",
       "    </tr>\n",
       "    <tr>\n",
       "      <th>4</th>\n",
       "      <td>96</td>\n",
       "      <td>76</td>\n",
       "      <td>2050</td>\n",
       "      <td>3.81</td>\n",
       "    </tr>\n",
       "    <tr>\n",
       "      <th>5</th>\n",
       "      <td>209</td>\n",
       "      <td>26</td>\n",
       "      <td>200</td>\n",
       "      <td>6.44</td>\n",
       "    </tr>\n",
       "    <tr>\n",
       "      <th>6</th>\n",
       "      <td>170</td>\n",
       "      <td>45</td>\n",
       "      <td>670</td>\n",
       "      <td>6.19</td>\n",
       "    </tr>\n",
       "    <tr>\n",
       "      <th>7</th>\n",
       "      <td>240</td>\n",
       "      <td>29</td>\n",
       "      <td>300</td>\n",
       "      <td>5.89</td>\n",
       "    </tr>\n",
       "    <tr>\n",
       "      <th>8</th>\n",
       "      <td>241</td>\n",
       "      <td>11</td>\n",
       "      <td>120</td>\n",
       "      <td>5.89</td>\n",
       "    </tr>\n",
       "    <tr>\n",
       "      <th>9</th>\n",
       "      <td>55</td>\n",
       "      <td>55</td>\n",
       "      <td>290</td>\n",
       "      <td>2.36</td>\n",
       "    </tr>\n",
       "  </tbody>\n",
       "</table>\n",
       "</div>"
      ],
      "text/plain": [
       "   Mortalidad_Infantil  Tasa_Alfabetismo_Femenino  PIB_per_cápita  \\\n",
       "0                  128                         37            1870   \n",
       "1                  204                         22             130   \n",
       "2                  202                         16             310   \n",
       "3                  197                         65             570   \n",
       "4                   96                         76            2050   \n",
       "5                  209                         26             200   \n",
       "6                  170                         45             670   \n",
       "7                  240                         29             300   \n",
       "8                  241                         11             120   \n",
       "9                   55                         55             290   \n",
       "\n",
       "   Tasa_fecundidad  \n",
       "0             6.66  \n",
       "1             6.15  \n",
       "2             7.00  \n",
       "3             7.25  \n",
       "4             3.81  \n",
       "5             6.44  \n",
       "6             6.19  \n",
       "7             5.89  \n",
       "8             5.89  \n",
       "9             2.36  "
      ]
     },
     "execution_count": 23,
     "metadata": {},
     "output_type": "execute_result"
    }
   ],
   "source": [
    "data.head(10)"
   ]
  },
  {
   "cell_type": "code",
   "execution_count": 24,
   "id": "ee7717a5",
   "metadata": {},
   "outputs": [
    {
     "data": {
      "text/html": [
       "<div>\n",
       "<style scoped>\n",
       "    .dataframe tbody tr th:only-of-type {\n",
       "        vertical-align: middle;\n",
       "    }\n",
       "\n",
       "    .dataframe tbody tr th {\n",
       "        vertical-align: top;\n",
       "    }\n",
       "\n",
       "    .dataframe thead th {\n",
       "        text-align: right;\n",
       "    }\n",
       "</style>\n",
       "<table border=\"1\" class=\"dataframe\">\n",
       "  <thead>\n",
       "    <tr style=\"text-align: right;\">\n",
       "      <th></th>\n",
       "      <th>Mortalidad_Infantil</th>\n",
       "      <th>Tasa_Alfabetismo_Femenino</th>\n",
       "      <th>PIB_per_cápita</th>\n",
       "      <th>Tasa_fecundidad</th>\n",
       "    </tr>\n",
       "  </thead>\n",
       "  <tbody>\n",
       "    <tr>\n",
       "      <th>count</th>\n",
       "      <td>64.000000</td>\n",
       "      <td>64.000000</td>\n",
       "      <td>64.000000</td>\n",
       "      <td>64.000000</td>\n",
       "    </tr>\n",
       "    <tr>\n",
       "      <th>mean</th>\n",
       "      <td>139.921875</td>\n",
       "      <td>51.187500</td>\n",
       "      <td>1399.687500</td>\n",
       "      <td>5.565469</td>\n",
       "    </tr>\n",
       "    <tr>\n",
       "      <th>std</th>\n",
       "      <td>77.260291</td>\n",
       "      <td>26.007859</td>\n",
       "      <td>2726.156064</td>\n",
       "      <td>1.521400</td>\n",
       "    </tr>\n",
       "    <tr>\n",
       "      <th>min</th>\n",
       "      <td>12.000000</td>\n",
       "      <td>9.000000</td>\n",
       "      <td>120.000000</td>\n",
       "      <td>1.690000</td>\n",
       "    </tr>\n",
       "    <tr>\n",
       "      <th>25%</th>\n",
       "      <td>78.500000</td>\n",
       "      <td>29.000000</td>\n",
       "      <td>300.000000</td>\n",
       "      <td>4.615000</td>\n",
       "    </tr>\n",
       "    <tr>\n",
       "      <th>50%</th>\n",
       "      <td>138.500000</td>\n",
       "      <td>48.000000</td>\n",
       "      <td>575.000000</td>\n",
       "      <td>6.040000</td>\n",
       "    </tr>\n",
       "    <tr>\n",
       "      <th>75%</th>\n",
       "      <td>192.500000</td>\n",
       "      <td>77.250000</td>\n",
       "      <td>1317.500000</td>\n",
       "      <td>6.660000</td>\n",
       "    </tr>\n",
       "    <tr>\n",
       "      <th>max</th>\n",
       "      <td>312.000000</td>\n",
       "      <td>95.000000</td>\n",
       "      <td>19830.000000</td>\n",
       "      <td>8.490000</td>\n",
       "    </tr>\n",
       "  </tbody>\n",
       "</table>\n",
       "</div>"
      ],
      "text/plain": [
       "       Mortalidad_Infantil  Tasa_Alfabetismo_Femenino  PIB_per_cápita  \\\n",
       "count            64.000000                  64.000000       64.000000   \n",
       "mean            139.921875                  51.187500     1399.687500   \n",
       "std              77.260291                  26.007859     2726.156064   \n",
       "min              12.000000                   9.000000      120.000000   \n",
       "25%              78.500000                  29.000000      300.000000   \n",
       "50%             138.500000                  48.000000      575.000000   \n",
       "75%             192.500000                  77.250000     1317.500000   \n",
       "max             312.000000                  95.000000    19830.000000   \n",
       "\n",
       "       Tasa_fecundidad  \n",
       "count        64.000000  \n",
       "mean          5.565469  \n",
       "std           1.521400  \n",
       "min           1.690000  \n",
       "25%           4.615000  \n",
       "50%           6.040000  \n",
       "75%           6.660000  \n",
       "max           8.490000  "
      ]
     },
     "execution_count": 24,
     "metadata": {},
     "output_type": "execute_result"
    }
   ],
   "source": [
    "data.describe()  #resumen estadisico"
   ]
  },
  {
   "cell_type": "markdown",
   "id": "fd743a06",
   "metadata": {},
   "source": [
    "# Observación:\n",
    "    para realizar  alguna modificación  del archivo , filtros columnas adicionales ,etc\n",
    "realizar  una  copia para no perder los datos originales \n"
   ]
  },
  {
   "cell_type": "code",
   "execution_count": 20,
   "id": "3329ee18",
   "metadata": {},
   "outputs": [],
   "source": [
    "data2=data.copy()"
   ]
  },
  {
   "cell_type": "code",
   "execution_count": 21,
   "id": "820347cf",
   "metadata": {},
   "outputs": [],
   "source": [
    "data2[\"nueva\"]=data2[\"Mortalidad_Infantil\"]+data2[\"Tasa_Alfabetismo_Femenino\"]"
   ]
  },
  {
   "cell_type": "code",
   "execution_count": 22,
   "id": "21391d52",
   "metadata": {},
   "outputs": [
    {
     "data": {
      "text/html": [
       "<div>\n",
       "<style scoped>\n",
       "    .dataframe tbody tr th:only-of-type {\n",
       "        vertical-align: middle;\n",
       "    }\n",
       "\n",
       "    .dataframe tbody tr th {\n",
       "        vertical-align: top;\n",
       "    }\n",
       "\n",
       "    .dataframe thead th {\n",
       "        text-align: right;\n",
       "    }\n",
       "</style>\n",
       "<table border=\"1\" class=\"dataframe\">\n",
       "  <thead>\n",
       "    <tr style=\"text-align: right;\">\n",
       "      <th></th>\n",
       "      <th>Mortalidad_Infantil</th>\n",
       "      <th>Tasa_Alfabetismo_Femenino</th>\n",
       "      <th>PIB_per_cápita</th>\n",
       "      <th>Tasa_fecundidad</th>\n",
       "      <th>nueva</th>\n",
       "    </tr>\n",
       "  </thead>\n",
       "  <tbody>\n",
       "    <tr>\n",
       "      <th>0</th>\n",
       "      <td>128</td>\n",
       "      <td>37</td>\n",
       "      <td>1870</td>\n",
       "      <td>6.66</td>\n",
       "      <td>165</td>\n",
       "    </tr>\n",
       "    <tr>\n",
       "      <th>1</th>\n",
       "      <td>204</td>\n",
       "      <td>22</td>\n",
       "      <td>130</td>\n",
       "      <td>6.15</td>\n",
       "      <td>226</td>\n",
       "    </tr>\n",
       "    <tr>\n",
       "      <th>2</th>\n",
       "      <td>202</td>\n",
       "      <td>16</td>\n",
       "      <td>310</td>\n",
       "      <td>7.00</td>\n",
       "      <td>218</td>\n",
       "    </tr>\n",
       "    <tr>\n",
       "      <th>3</th>\n",
       "      <td>197</td>\n",
       "      <td>65</td>\n",
       "      <td>570</td>\n",
       "      <td>7.25</td>\n",
       "      <td>262</td>\n",
       "    </tr>\n",
       "    <tr>\n",
       "      <th>4</th>\n",
       "      <td>96</td>\n",
       "      <td>76</td>\n",
       "      <td>2050</td>\n",
       "      <td>3.81</td>\n",
       "      <td>172</td>\n",
       "    </tr>\n",
       "  </tbody>\n",
       "</table>\n",
       "</div>"
      ],
      "text/plain": [
       "   Mortalidad_Infantil  Tasa_Alfabetismo_Femenino  PIB_per_cápita  \\\n",
       "0                  128                         37            1870   \n",
       "1                  204                         22             130   \n",
       "2                  202                         16             310   \n",
       "3                  197                         65             570   \n",
       "4                   96                         76            2050   \n",
       "\n",
       "   Tasa_fecundidad  nueva  \n",
       "0             6.66    165  \n",
       "1             6.15    226  \n",
       "2             7.00    218  \n",
       "3             7.25    262  \n",
       "4             3.81    172  "
      ]
     },
     "execution_count": 22,
     "metadata": {},
     "output_type": "execute_result"
    }
   ],
   "source": [
    "data2.head()"
   ]
  },
  {
   "cell_type": "code",
   "execution_count": 23,
   "id": "75f9e29b",
   "metadata": {},
   "outputs": [
    {
     "data": {
      "text/html": [
       "<div>\n",
       "<style scoped>\n",
       "    .dataframe tbody tr th:only-of-type {\n",
       "        vertical-align: middle;\n",
       "    }\n",
       "\n",
       "    .dataframe tbody tr th {\n",
       "        vertical-align: top;\n",
       "    }\n",
       "\n",
       "    .dataframe thead th {\n",
       "        text-align: right;\n",
       "    }\n",
       "</style>\n",
       "<table border=\"1\" class=\"dataframe\">\n",
       "  <thead>\n",
       "    <tr style=\"text-align: right;\">\n",
       "      <th></th>\n",
       "      <th>Mortalidad_Infantil</th>\n",
       "      <th>nueva</th>\n",
       "    </tr>\n",
       "  </thead>\n",
       "  <tbody>\n",
       "    <tr>\n",
       "      <th>0</th>\n",
       "      <td>128</td>\n",
       "      <td>165</td>\n",
       "    </tr>\n",
       "    <tr>\n",
       "      <th>1</th>\n",
       "      <td>204</td>\n",
       "      <td>226</td>\n",
       "    </tr>\n",
       "    <tr>\n",
       "      <th>2</th>\n",
       "      <td>202</td>\n",
       "      <td>218</td>\n",
       "    </tr>\n",
       "    <tr>\n",
       "      <th>3</th>\n",
       "      <td>197</td>\n",
       "      <td>262</td>\n",
       "    </tr>\n",
       "    <tr>\n",
       "      <th>4</th>\n",
       "      <td>96</td>\n",
       "      <td>172</td>\n",
       "    </tr>\n",
       "    <tr>\n",
       "      <th>5</th>\n",
       "      <td>209</td>\n",
       "      <td>235</td>\n",
       "    </tr>\n",
       "    <tr>\n",
       "      <th>6</th>\n",
       "      <td>170</td>\n",
       "      <td>215</td>\n",
       "    </tr>\n",
       "    <tr>\n",
       "      <th>7</th>\n",
       "      <td>240</td>\n",
       "      <td>269</td>\n",
       "    </tr>\n",
       "    <tr>\n",
       "      <th>8</th>\n",
       "      <td>241</td>\n",
       "      <td>252</td>\n",
       "    </tr>\n",
       "    <tr>\n",
       "      <th>9</th>\n",
       "      <td>55</td>\n",
       "      <td>110</td>\n",
       "    </tr>\n",
       "    <tr>\n",
       "      <th>10</th>\n",
       "      <td>75</td>\n",
       "      <td>162</td>\n",
       "    </tr>\n",
       "    <tr>\n",
       "      <th>11</th>\n",
       "      <td>129</td>\n",
       "      <td>184</td>\n",
       "    </tr>\n",
       "    <tr>\n",
       "      <th>12</th>\n",
       "      <td>24</td>\n",
       "      <td>117</td>\n",
       "    </tr>\n",
       "    <tr>\n",
       "      <th>13</th>\n",
       "      <td>165</td>\n",
       "      <td>196</td>\n",
       "    </tr>\n",
       "    <tr>\n",
       "      <th>14</th>\n",
       "      <td>94</td>\n",
       "      <td>171</td>\n",
       "    </tr>\n",
       "  </tbody>\n",
       "</table>\n",
       "</div>"
      ],
      "text/plain": [
       "    Mortalidad_Infantil  nueva\n",
       "0                   128    165\n",
       "1                   204    226\n",
       "2                   202    218\n",
       "3                   197    262\n",
       "4                    96    172\n",
       "5                   209    235\n",
       "6                   170    215\n",
       "7                   240    269\n",
       "8                   241    252\n",
       "9                    55    110\n",
       "10                   75    162\n",
       "11                  129    184\n",
       "12                   24    117\n",
       "13                  165    196\n",
       "14                   94    171"
      ]
     },
     "execution_count": 23,
     "metadata": {},
     "output_type": "execute_result"
    }
   ],
   "source": [
    "# De la data anterior dejar solo las columnas 1 y 5.\n",
    "data3=data2[[\"Mortalidad_Infantil\",\"nueva\"]]\n",
    "data3.head(15)"
   ]
  },
  {
   "cell_type": "code",
   "execution_count": 24,
   "id": "8d2e257a",
   "metadata": {},
   "outputs": [
    {
     "name": "stdout",
     "output_type": "stream",
     "text": [
      "<class 'pandas.core.frame.DataFrame'>\n",
      "Int64Index: 49 entries, 0 to 63\n",
      "Data columns (total 2 columns):\n",
      " #   Column               Non-Null Count  Dtype\n",
      "---  ------               --------------  -----\n",
      " 0   Mortalidad_Infantil  49 non-null     int64\n",
      " 1   nueva                49 non-null     int64\n",
      "dtypes: int64(2)\n",
      "memory usage: 1.1 KB\n"
     ]
    },
    {
     "data": {
      "text/html": [
       "<div>\n",
       "<style scoped>\n",
       "    .dataframe tbody tr th:only-of-type {\n",
       "        vertical-align: middle;\n",
       "    }\n",
       "\n",
       "    .dataframe tbody tr th {\n",
       "        vertical-align: top;\n",
       "    }\n",
       "\n",
       "    .dataframe thead th {\n",
       "        text-align: right;\n",
       "    }\n",
       "</style>\n",
       "<table border=\"1\" class=\"dataframe\">\n",
       "  <thead>\n",
       "    <tr style=\"text-align: right;\">\n",
       "      <th></th>\n",
       "      <th>Mortalidad_Infantil</th>\n",
       "      <th>nueva</th>\n",
       "    </tr>\n",
       "  </thead>\n",
       "  <tbody>\n",
       "    <tr>\n",
       "      <th>count</th>\n",
       "      <td>49.000000</td>\n",
       "      <td>49.000000</td>\n",
       "    </tr>\n",
       "    <tr>\n",
       "      <th>mean</th>\n",
       "      <td>168.918367</td>\n",
       "      <td>214.020408</td>\n",
       "    </tr>\n",
       "    <tr>\n",
       "      <th>std</th>\n",
       "      <td>63.083224</td>\n",
       "      <td>45.524943</td>\n",
       "    </tr>\n",
       "    <tr>\n",
       "      <th>min</th>\n",
       "      <td>67.000000</td>\n",
       "      <td>152.000000</td>\n",
       "    </tr>\n",
       "    <tr>\n",
       "      <th>25%</th>\n",
       "      <td>121.000000</td>\n",
       "      <td>176.000000</td>\n",
       "    </tr>\n",
       "    <tr>\n",
       "      <th>50%</th>\n",
       "      <td>165.000000</td>\n",
       "      <td>204.000000</td>\n",
       "    </tr>\n",
       "    <tr>\n",
       "      <th>75%</th>\n",
       "      <td>209.000000</td>\n",
       "      <td>236.000000</td>\n",
       "    </tr>\n",
       "    <tr>\n",
       "      <th>max</th>\n",
       "      <td>312.000000</td>\n",
       "      <td>333.000000</td>\n",
       "    </tr>\n",
       "  </tbody>\n",
       "</table>\n",
       "</div>"
      ],
      "text/plain": [
       "       Mortalidad_Infantil       nueva\n",
       "count            49.000000   49.000000\n",
       "mean            168.918367  214.020408\n",
       "std              63.083224   45.524943\n",
       "min              67.000000  152.000000\n",
       "25%             121.000000  176.000000\n",
       "50%             165.000000  204.000000\n",
       "75%             209.000000  236.000000\n",
       "max             312.000000  333.000000"
      ]
     },
     "execution_count": 24,
     "metadata": {},
     "output_type": "execute_result"
    }
   ],
   "source": [
    "data4=data3[data3[\"nueva\"]>150] # filtro\n",
    "data4.info()\n",
    "data4.describe()"
   ]
  },
  {
   "cell_type": "code",
   "execution_count": 26,
   "id": "819310a2",
   "metadata": {},
   "outputs": [
    {
     "data": {
      "text/html": [
       "<div>\n",
       "<style scoped>\n",
       "    .dataframe tbody tr th:only-of-type {\n",
       "        vertical-align: middle;\n",
       "    }\n",
       "\n",
       "    .dataframe tbody tr th {\n",
       "        vertical-align: top;\n",
       "    }\n",
       "\n",
       "    .dataframe thead th {\n",
       "        text-align: right;\n",
       "    }\n",
       "</style>\n",
       "<table border=\"1\" class=\"dataframe\">\n",
       "  <thead>\n",
       "    <tr style=\"text-align: right;\">\n",
       "      <th></th>\n",
       "      <th>renta</th>\n",
       "      <th>año</th>\n",
       "      <th>población</th>\n",
       "      <th>estudiantes</th>\n",
       "      <th>ingreso</th>\n",
       "    </tr>\n",
       "  </thead>\n",
       "  <tbody>\n",
       "    <tr>\n",
       "      <th>0</th>\n",
       "      <td>197</td>\n",
       "      <td>1</td>\n",
       "      <td>75211</td>\n",
       "      <td>15303</td>\n",
       "      <td>11537</td>\n",
       "    </tr>\n",
       "    <tr>\n",
       "      <th>1</th>\n",
       "      <td>342</td>\n",
       "      <td>0</td>\n",
       "      <td>77759</td>\n",
       "      <td>18017</td>\n",
       "      <td>19568</td>\n",
       "    </tr>\n",
       "    <tr>\n",
       "      <th>2</th>\n",
       "      <td>323</td>\n",
       "      <td>1</td>\n",
       "      <td>106743</td>\n",
       "      <td>22462</td>\n",
       "      <td>19841</td>\n",
       "    </tr>\n",
       "    <tr>\n",
       "      <th>3</th>\n",
       "      <td>496</td>\n",
       "      <td>0</td>\n",
       "      <td>141865</td>\n",
       "      <td>29769</td>\n",
       "      <td>31885</td>\n",
       "    </tr>\n",
       "    <tr>\n",
       "      <th>4</th>\n",
       "      <td>216</td>\n",
       "      <td>1</td>\n",
       "      <td>36608</td>\n",
       "      <td>11847</td>\n",
       "      <td>11455</td>\n",
       "    </tr>\n",
       "    <tr>\n",
       "      <th>...</th>\n",
       "      <td>...</td>\n",
       "      <td>...</td>\n",
       "      <td>...</td>\n",
       "      <td>...</td>\n",
       "      <td>...</td>\n",
       "    </tr>\n",
       "    <tr>\n",
       "      <th>123</th>\n",
       "      <td>352</td>\n",
       "      <td>0</td>\n",
       "      <td>56856</td>\n",
       "      <td>10640</td>\n",
       "      <td>24735</td>\n",
       "    </tr>\n",
       "    <tr>\n",
       "      <th>124</th>\n",
       "      <td>220</td>\n",
       "      <td>1</td>\n",
       "      <td>48347</td>\n",
       "      <td>9051</td>\n",
       "      <td>13458</td>\n",
       "    </tr>\n",
       "    <tr>\n",
       "      <th>125</th>\n",
       "      <td>344</td>\n",
       "      <td>0</td>\n",
       "      <td>51003</td>\n",
       "      <td>9961</td>\n",
       "      <td>21947</td>\n",
       "    </tr>\n",
       "    <tr>\n",
       "      <th>126</th>\n",
       "      <td>243</td>\n",
       "      <td>1</td>\n",
       "      <td>170616</td>\n",
       "      <td>37475</td>\n",
       "      <td>16510</td>\n",
       "    </tr>\n",
       "    <tr>\n",
       "      <th>127</th>\n",
       "      <td>472</td>\n",
       "      <td>0</td>\n",
       "      <td>191262</td>\n",
       "      <td>44601</td>\n",
       "      <td>29420</td>\n",
       "    </tr>\n",
       "  </tbody>\n",
       "</table>\n",
       "<p>128 rows × 5 columns</p>\n",
       "</div>"
      ],
      "text/plain": [
       "     renta  año  población  estudiantes  ingreso\n",
       "0      197    1      75211        15303    11537\n",
       "1      342    0      77759        18017    19568\n",
       "2      323    1     106743        22462    19841\n",
       "3      496    0     141865        29769    31885\n",
       "4      216    1      36608        11847    11455\n",
       "..     ...  ...        ...          ...      ...\n",
       "123    352    0      56856        10640    24735\n",
       "124    220    1      48347         9051    13458\n",
       "125    344    0      51003         9961    21947\n",
       "126    243    1     170616        37475    16510\n",
       "127    472    0     191262        44601    29420\n",
       "\n",
       "[128 rows x 5 columns]"
      ]
     },
     "execution_count": 26,
     "metadata": {},
     "output_type": "execute_result"
    }
   ],
   "source": [
    "import xlrd\n",
    "renta=pd.read_excel(\"renta1.xlsx\")  # archivo en excel\n",
    "renta"
   ]
  },
  {
   "cell_type": "markdown",
   "id": "ba3cbd5c",
   "metadata": {},
   "source": [
    "# Libreria Seaborn\n",
    "Esta libreria permite aplicar gráficos estadísticos de una forma simple, es un atajo de la libreria matplotlib por lo que se puede ahorrar mucho tiempo en visualizar características de las bases de datos."
   ]
  },
  {
   "cell_type": "code",
   "execution_count": 122,
   "id": "7d798c01",
   "metadata": {},
   "outputs": [],
   "source": [
    "import seaborn as sns"
   ]
  },
  {
   "cell_type": "code",
   "execution_count": 41,
   "id": "b6e2e413",
   "metadata": {},
   "outputs": [
    {
     "data": {
      "text/plain": [
       "count     64.000000\n",
       "mean     139.921875\n",
       "std       77.260291\n",
       "min       12.000000\n",
       "25%       78.500000\n",
       "50%      138.500000\n",
       "75%      192.500000\n",
       "max      312.000000\n",
       "Name: Mortalidad_Infantil, dtype: float64"
      ]
     },
     "execution_count": 41,
     "metadata": {},
     "output_type": "execute_result"
    }
   ],
   "source": [
    "data[\"Mortalidad_Infantil\"].describe()"
   ]
  },
  {
   "cell_type": "code",
   "execution_count": 45,
   "id": "df3f2052",
   "metadata": {},
   "outputs": [
    {
     "data": {
      "image/png": "[encoded data removed]",
      "text/plain": [
       "<Figure size 400x400 with 1 Axes>"
      ]
     },
     "metadata": {},
     "output_type": "display_data"
    }
   ],
   "source": [
    "#para realizar boxplot\n",
    "plt.figure(figsize=(4,4))\n",
    "sns.boxplot(data=data,y=\"Mortalidad_Infantil\",color=\"red\")\n",
    "plt.title(\"Gráfico de caja\")\n",
    "sns.set_style(\"whitegrid\")\n",
    "plt.show()"
   ]
  },
  {
   "cell_type": "code",
   "execution_count": 44,
   "id": "9b395262",
   "metadata": {},
   "outputs": [],
   "source": [
    "sns.set_style(\"whitegrid\")"
   ]
  },
  {
   "cell_type": "code",
   "execution_count": 47,
   "id": "11a2845e",
   "metadata": {},
   "outputs": [
    {
     "data": {
      "image/png": "[encoded data removed]",
      "text/plain": [
       "<Figure size 400x400 with 1 Axes>"
      ]
     },
     "metadata": {},
     "output_type": "display_data"
    }
   ],
   "source": [
    "plt.figure(figsize=(4,4))\n",
    "sns.histplot(data=data,x=\"Mortalidad_Infantil\",bins=30,kde=True)\n",
    "plt.savefig(\"histograma.png\")\n",
    "plt.show()"
   ]
  },
  {
   "cell_type": "code",
   "execution_count": 51,
   "id": "26c833ac",
   "metadata": {},
   "outputs": [
    {
     "data": {
      "image/png": "[encoded data removed]",
      "text/plain": [
       "<Figure size 800x800 with 1 Axes>"
      ]
     },
     "metadata": {},
     "output_type": "display_data"
    }
   ],
   "source": [
    "plt.figure(figsize=(8,8))\n",
    "sns.boxplot(data=data,y=\"Mortalidad_Infantil\",color=\"blue\")\n",
    "plt.title(\"Gráfico de caja Mortalidad infantil\")\n",
    "plt.savefig(\"boxplotMI.png\")\n",
    "plt.show()"
   ]
  }
 ],
 "metadata": {
  "kernelspec": {
   "display_name": "Python 3 (ipykernel)",
   "language": "python",
   "name": "python3"
  },
  "language_info": {
   "codemirror_mode": {
    "name": "ipython",
    "version": 3
   },
   "file_extension": ".py",
   "mimetype": "text/x-python",
   "name": "python",
   "nbconvert_exporter": "python",
   "pygments_lexer": "ipython3",
   "version": "3.9.13"
  }
 },
 "nbformat": 4,
 "nbformat_minor": 5
}
